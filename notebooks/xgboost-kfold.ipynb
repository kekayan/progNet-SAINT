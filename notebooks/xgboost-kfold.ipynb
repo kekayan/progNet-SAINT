{
 "cells": [
  {
   "cell_type": "code",
   "execution_count": 1,
   "metadata": {},
   "outputs": [],
   "source": [
    "import pandas as pd\n",
    "import numpy as np\n",
    "import matplotlib.pyplot as plt\n",
    "import os, gc \n",
    "import xgboost as xgb\n",
    "import warnings\n",
    "warnings.filterwarnings('ignore')"
   ]
  },
  {
   "cell_type": "code",
   "execution_count": 2,
   "metadata": {},
   "outputs": [],
   "source": [
    "SEED = 42\n",
    "FOLDS = 5"
   ]
  },
  {
   "cell_type": "code",
   "execution_count": 3,
   "metadata": {},
   "outputs": [],
   "source": [
    "df = pd.read_csv('../data/clinical_and_other_features_filtered.csv')\n",
    "df.columns=df.columns.str.strip()\n",
    "df.columns = [col.replace('[', '(').replace(']', ')') for col in df.columns]\n",
    "df.replace('NP', np.nan, inplace=True)\n",
    "df.replace('NC', np.nan, inplace=True)\n",
    "df.replace('NA', np.nan, inplace=True)\n",
    "df.drop('Oncotype score', axis=1, inplace=True)"
   ]
  },
  {
   "cell_type": "code",
   "execution_count": 4,
   "metadata": {},
   "outputs": [],
   "source": [
    "near_complete_response = ['Overall Near-complete Response:  Looser Definition','Near-complete Response (Graded Measure)']\n",
    "df.drop(near_complete_response, axis=1, inplace=True)\n",
    "pathologic_response_to_neoadjuvant_therapy = ['Pathologic response to Neoadjuvant therapy: Pathologic stage (T) following neoadjuvant therapy',\n",
    "       'Pathologic response to Neoadjuvant therapy:  Pathologic stage (N) following neoadjuvant therapy',\n",
    "       'Pathologic response to Neoadjuvant therapy:  Pathologic stage (M) following neoadjuvant therapy']\n",
    "df.drop(pathologic_response_to_neoadjuvant_therapy, axis=1, inplace=True)"
   ]
  },
  {
   "cell_type": "code",
   "execution_count": 5,
   "metadata": {},
   "outputs": [],
   "source": [
    "X = df.drop(\"Overall Near-complete Response:  Stricter Definition\", axis=1)\n",
    "y = df[\"Overall Near-complete Response:  Stricter Definition\"]"
   ]
  },
  {
   "cell_type": "code",
   "execution_count": 6,
   "metadata": {},
   "outputs": [],
   "source": [
    "y = y.astype('int')"
   ]
  },
  {
   "cell_type": "code",
   "execution_count": 7,
   "metadata": {},
   "outputs": [],
   "source": [
    "cont_columns = ['Date of Birth (Days)', 'Days to Surgery (from the date of diagnosis)', 'Age at last contact in EMR f/u(days)(from the date of diagnosis) ,last time patient known to be alive, unless age of death is reported(in such case the age of death',\n",
    "'Age at mammo (days)', 'Days to distant recurrence(from the date of diagnosis)', 'Days to local recurrence (from the date of diagnosis)',\n",
    "'Days to death (from the date of diagnosis)', 'Days to last local recurrence free assessment (from the date of diagnosis)', \n",
    "]\n",
    "categorical_columns = list(set(X.columns) - set(cont_columns))\n"
   ]
  },
  {
   "cell_type": "code",
   "execution_count": 8,
   "metadata": {},
   "outputs": [],
   "source": [
    "for col in cont_columns:\n",
    "    X[col] = X[col].astype(\"float64\", errors='ignore')\n",
    "for categorical_column in categorical_columns:\n",
    "    X[categorical_column] = X[categorical_column].astype(\"category\", errors='ignore')"
   ]
  },
  {
   "cell_type": "code",
   "execution_count": 9,
   "metadata": {},
   "outputs": [
    {
     "data": {
      "text/plain": [
       "4"
      ]
     },
     "execution_count": 9,
     "metadata": {},
     "output_type": "execute_result"
    }
   ],
   "source": [
    "y.nunique()"
   ]
  },
  {
   "cell_type": "code",
   "execution_count": 10,
   "metadata": {},
   "outputs": [
    {
     "data": {
      "text/plain": [
       "Date of Birth (Days)                                                      float64\n",
       "Menopause (at diagnosis)                                                 category\n",
       "Race and Ethnicity                                                       category\n",
       "Metastatic at Presentation (Outside of Lymph Nodes)                      category\n",
       "ER                                                                       category\n",
       "                                                                           ...   \n",
       "Number of Ovaries In Situ                                                category\n",
       "Therapeutic or Prophylactic Oophorectomy as part of Endocrine Therapy    category\n",
       "Neoadjuvant Anti-Her2 Neu Therapy                                        category\n",
       "Adjuvant Anti-Her2 Neu Therapy                                           category\n",
       "Received Neoadjuvant Therapy or Not                                      category\n",
       "Length: 77, dtype: object"
      ]
     },
     "execution_count": 10,
     "metadata": {},
     "output_type": "execute_result"
    }
   ],
   "source": [
    "X.dtypes"
   ]
  },
  {
   "cell_type": "code",
   "execution_count": 11,
   "metadata": {},
   "outputs": [
    {
     "name": "stdout",
     "output_type": "stream",
     "text": [
      "[0]\ttrain-merror:0.06651+0.01674\ttest-merror:0.16959+0.04695\n",
      "[10]\ttrain-merror:0.03765+0.00540\ttest-merror:0.05771+0.00794\n",
      "[20]\ttrain-merror:0.02163+0.00823\ttest-merror:0.05771+0.00794\n",
      "[22]\ttrain-merror:0.01763+0.00651\ttest-merror:0.05771+0.00794\n"
     ]
    }
   ],
   "source": [
    "#  multiclass classification with XGBoost\n",
    "results = xgb.cv(\n",
    "    params={\n",
    "        \"objective\": \"multi:softmax\",\n",
    "        \"num_class\": 4,\n",
    "        \"eval_metric\": \"merror\",\n",
    "        \"nthread\": 4,\n",
    "        \"eta\": 0.1,\n",
    "        \"max_depth\": 6,\n",
    "        \"subsample\": 0.8,\n",
    "        \"colsample_bytree\": 0.8,\n",
    "        \"silent\": 1,\n",
    "        \"seed\": SEED,\n",
    "    },\n",
    "    # enable_categorical=True to use categorical features\n",
    "    dtrain=xgb.DMatrix(X, y, enable_categorical=True),\n",
    "    num_boost_round=1000,\n",
    "    nfold=FOLDS,\n",
    "    stratified=True,\n",
    "    early_stopping_rounds=20,\n",
    "    verbose_eval=10,\n",
    "    seed=SEED,\n",
    ")"
   ]
  },
  {
   "cell_type": "code",
   "execution_count": 12,
   "metadata": {},
   "outputs": [
    {
     "data": {
      "text/plain": [
       "Index(['train-merror-mean', 'train-merror-std', 'test-merror-mean',\n",
       "       'test-merror-std'],\n",
       "      dtype='object')"
      ]
     },
     "execution_count": 12,
     "metadata": {},
     "output_type": "execute_result"
    }
   ],
   "source": [
    "results.keys()\n"
   ]
  },
  {
   "cell_type": "code",
   "execution_count": 13,
   "metadata": {},
   "outputs": [
    {
     "data": {
      "text/plain": [
       "0.1695852534562212"
      ]
     },
     "execution_count": 13,
     "metadata": {},
     "output_type": "execute_result"
    }
   ],
   "source": [
    "results['test-merror-mean'].max()"
   ]
  },
  {
   "cell_type": "code",
   "execution_count": 14,
   "metadata": {},
   "outputs": [
    {
     "data": {
      "text/plain": [
       "0.8304147465437788"
      ]
     },
     "execution_count": 14,
     "metadata": {},
     "output_type": "execute_result"
    }
   ],
   "source": [
    "1-results['test-merror-mean'].max()"
   ]
  },
  {
   "cell_type": "code",
   "execution_count": null,
   "metadata": {},
   "outputs": [],
   "source": []
  }
 ],
 "metadata": {
  "kernelspec": {
   "display_name": "prog",
   "language": "python",
   "name": "python3"
  },
  "language_info": {
   "codemirror_mode": {
    "name": "ipython",
    "version": 3
   },
   "file_extension": ".py",
   "mimetype": "text/x-python",
   "name": "python",
   "nbconvert_exporter": "python",
   "pygments_lexer": "ipython3",
   "version": "3.11.5"
  }
 },
 "nbformat": 4,
 "nbformat_minor": 2
}
