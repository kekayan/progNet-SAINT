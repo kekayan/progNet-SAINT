{
 "cells": [
  {
   "cell_type": "code",
   "execution_count": 1,
   "metadata": {},
   "outputs": [],
   "source": [
    "import pandas as pd"
   ]
  },
  {
   "cell_type": "code",
   "execution_count": 2,
   "metadata": {},
   "outputs": [
    {
     "data": {
      "text/html": [
       "<div>\n",
       "<style scoped>\n",
       "    .dataframe tbody tr th:only-of-type {\n",
       "        vertical-align: middle;\n",
       "    }\n",
       "\n",
       "    .dataframe tbody tr th {\n",
       "        vertical-align: top;\n",
       "    }\n",
       "\n",
       "    .dataframe thead th {\n",
       "        text-align: right;\n",
       "    }\n",
       "</style>\n",
       "<table border=\"1\" class=\"dataframe\">\n",
       "  <thead>\n",
       "    <tr style=\"text-align: right;\">\n",
       "      <th></th>\n",
       "      <th>Patient ID</th>\n",
       "      <th>Days to MRI (From the Date of Diagnosis)</th>\n",
       "      <th>Manufacturer</th>\n",
       "      <th>Manufacturer Model Name</th>\n",
       "      <th>Scan Options</th>\n",
       "      <th>Field Strength (Tesla)</th>\n",
       "      <th>Patient Position During MRI</th>\n",
       "      <th>Image Position of Patient</th>\n",
       "      <th>Contrast Agent</th>\n",
       "      <th>Contrast Bolus Volume (mL)</th>\n",
       "      <th>...</th>\n",
       "      <th>Therapeutic or Prophylactic Oophorectomy as part of Endocrine Therapy</th>\n",
       "      <th>Neoadjuvant Anti-Her2 Neu Therapy</th>\n",
       "      <th>Adjuvant Anti-Her2 Neu Therapy</th>\n",
       "      <th>Received Neoadjuvant Therapy or Not</th>\n",
       "      <th>Pathologic response to Neoadjuvant therapy: Pathologic stage (T) following neoadjuvant therapy</th>\n",
       "      <th>Pathologic response to Neoadjuvant therapy:  Pathologic stage (N) following neoadjuvant therapy</th>\n",
       "      <th>Pathologic response to Neoadjuvant therapy:  Pathologic stage (M) following neoadjuvant therapy</th>\n",
       "      <th>Overall Near-complete Response:  Stricter Definition</th>\n",
       "      <th>Overall Near-complete Response:  Looser Definition</th>\n",
       "      <th>Near-complete Response (Graded Measure)</th>\n",
       "    </tr>\n",
       "  </thead>\n",
       "  <tbody>\n",
       "    <tr>\n",
       "      <th>0</th>\n",
       "      <td>Breast_MRI_001</td>\n",
       "      <td>6</td>\n",
       "      <td>2</td>\n",
       "      <td>0</td>\n",
       "      <td>5</td>\n",
       "      <td>1</td>\n",
       "      <td>0</td>\n",
       "      <td>-191.8003 X -176.1259 X 86.6065</td>\n",
       "      <td>1</td>\n",
       "      <td>15</td>\n",
       "      <td>...</td>\n",
       "      <td>1</td>\n",
       "      <td>1</td>\n",
       "      <td>1</td>\n",
       "      <td>1</td>\n",
       "      <td>1</td>\n",
       "      <td>-1</td>\n",
       "      <td>-1</td>\n",
       "      <td>0</td>\n",
       "      <td>0</td>\n",
       "      <td>0</td>\n",
       "    </tr>\n",
       "    <tr>\n",
       "      <th>1</th>\n",
       "      <td>Breast_MRI_002</td>\n",
       "      <td>12</td>\n",
       "      <td>0</td>\n",
       "      <td>4</td>\n",
       "      <td>1</td>\n",
       "      <td>3</td>\n",
       "      <td>0</td>\n",
       "      <td>154.724 X 176.048 X 94.5771</td>\n",
       "      <td>1</td>\n",
       "      <td>NaN</td>\n",
       "      <td>...</td>\n",
       "      <td>0</td>\n",
       "      <td>0</td>\n",
       "      <td>0</td>\n",
       "      <td>1</td>\n",
       "      <td>NaN</td>\n",
       "      <td>NaN</td>\n",
       "      <td>NaN</td>\n",
       "      <td>2</td>\n",
       "      <td>2</td>\n",
       "      <td>4</td>\n",
       "    </tr>\n",
       "    <tr>\n",
       "      <th>2</th>\n",
       "      <td>Breast_MRI_003</td>\n",
       "      <td>10</td>\n",
       "      <td>0</td>\n",
       "      <td>3</td>\n",
       "      <td>2</td>\n",
       "      <td>3</td>\n",
       "      <td>0</td>\n",
       "      <td>174.658 X 228.317 X 88.4878</td>\n",
       "      <td>1</td>\n",
       "      <td>NaN</td>\n",
       "      <td>...</td>\n",
       "      <td>0</td>\n",
       "      <td>0</td>\n",
       "      <td>0</td>\n",
       "      <td>1</td>\n",
       "      <td>1</td>\n",
       "      <td>1</td>\n",
       "      <td>-1</td>\n",
       "      <td>0</td>\n",
       "      <td>0</td>\n",
       "      <td>0</td>\n",
       "    </tr>\n",
       "    <tr>\n",
       "      <th>3</th>\n",
       "      <td>Breast_MRI_004</td>\n",
       "      <td>18</td>\n",
       "      <td>0</td>\n",
       "      <td>4</td>\n",
       "      <td>1</td>\n",
       "      <td>1</td>\n",
       "      <td>0</td>\n",
       "      <td>188.148 X 194.282 X 94.1832</td>\n",
       "      <td>1</td>\n",
       "      <td>NaN</td>\n",
       "      <td>...</td>\n",
       "      <td>0</td>\n",
       "      <td>0</td>\n",
       "      <td>0</td>\n",
       "      <td>2</td>\n",
       "      <td>NaN</td>\n",
       "      <td>NaN</td>\n",
       "      <td>NaN</td>\n",
       "      <td>NaN</td>\n",
       "      <td>NaN</td>\n",
       "      <td>NaN</td>\n",
       "    </tr>\n",
       "    <tr>\n",
       "      <th>4</th>\n",
       "      <td>Breast_MRI_005</td>\n",
       "      <td>12</td>\n",
       "      <td>2</td>\n",
       "      <td>0</td>\n",
       "      <td>5</td>\n",
       "      <td>1</td>\n",
       "      <td>1</td>\n",
       "      <td>-173.063 X -150.7869 X 59.161</td>\n",
       "      <td>1</td>\n",
       "      <td>5</td>\n",
       "      <td>...</td>\n",
       "      <td>0</td>\n",
       "      <td>1</td>\n",
       "      <td>1</td>\n",
       "      <td>1</td>\n",
       "      <td>0</td>\n",
       "      <td>0</td>\n",
       "      <td>-1</td>\n",
       "      <td>1</td>\n",
       "      <td>1</td>\n",
       "      <td>1</td>\n",
       "    </tr>\n",
       "  </tbody>\n",
       "</table>\n",
       "<p>5 rows × 98 columns</p>\n",
       "</div>"
      ],
      "text/plain": [
       "0      Patient ID Days to MRI (From the Date of Diagnosis) Manufacturer  \\\n",
       "0  Breast_MRI_001                                        6            2   \n",
       "1  Breast_MRI_002                                       12            0   \n",
       "2  Breast_MRI_003                                       10            0   \n",
       "3  Breast_MRI_004                                       18            0   \n",
       "4  Breast_MRI_005                                       12            2   \n",
       "\n",
       "0 Manufacturer Model Name Scan Options Field Strength (Tesla)  \\\n",
       "0                       0            5                      1   \n",
       "1                       4            1                      3   \n",
       "2                       3            2                      3   \n",
       "3                       4            1                      1   \n",
       "4                       0            5                      1   \n",
       "\n",
       "0 Patient Position During MRI        Image Position of Patient Contrast Agent  \\\n",
       "0                           0  -191.8003 X -176.1259 X 86.6065              1   \n",
       "1                           0      154.724 X 176.048 X 94.5771              1   \n",
       "2                           0      174.658 X 228.317 X 88.4878              1   \n",
       "3                           0      188.148 X 194.282 X 94.1832              1   \n",
       "4                           1    -173.063 X -150.7869 X 59.161              1   \n",
       "\n",
       "0 Contrast Bolus Volume (mL)  ...  \\\n",
       "0                         15  ...   \n",
       "1                        NaN  ...   \n",
       "2                        NaN  ...   \n",
       "3                        NaN  ...   \n",
       "4                          5  ...   \n",
       "\n",
       "0 Therapeutic or Prophylactic Oophorectomy as part of Endocrine Therapy   \\\n",
       "0                                                  1                       \n",
       "1                                                  0                       \n",
       "2                                                  0                       \n",
       "3                                                  0                       \n",
       "4                                                  0                       \n",
       "\n",
       "0 Neoadjuvant Anti-Her2 Neu Therapy Adjuvant Anti-Her2 Neu Therapy   \\\n",
       "0                                 1                               1   \n",
       "1                                 0                               0   \n",
       "2                                 0                               0   \n",
       "3                                 0                               0   \n",
       "4                                 1                               1   \n",
       "\n",
       "0 Received Neoadjuvant Therapy or Not  \\\n",
       "0                                   1   \n",
       "1                                   1   \n",
       "2                                   1   \n",
       "3                                   2   \n",
       "4                                   1   \n",
       "\n",
       "0 Pathologic response to Neoadjuvant therapy: Pathologic stage (T) following neoadjuvant therapy   \\\n",
       "0                                                  1                                                \n",
       "1                                                NaN                                                \n",
       "2                                                  1                                                \n",
       "3                                                NaN                                                \n",
       "4                                                  0                                                \n",
       "\n",
       "0 Pathologic response to Neoadjuvant therapy:  Pathologic stage (N) following neoadjuvant therapy  \\\n",
       "0                                                 -1                                                \n",
       "1                                                NaN                                                \n",
       "2                                                  1                                                \n",
       "3                                                NaN                                                \n",
       "4                                                  0                                                \n",
       "\n",
       "0 Pathologic response to Neoadjuvant therapy:  Pathologic stage (M) following neoadjuvant therapy   \\\n",
       "0                                                 -1                                                 \n",
       "1                                                NaN                                                 \n",
       "2                                                 -1                                                 \n",
       "3                                                NaN                                                 \n",
       "4                                                 -1                                                 \n",
       "\n",
       "0 Overall Near-complete Response:  Stricter Definition  \\\n",
       "0                                                  0     \n",
       "1                                                  2     \n",
       "2                                                  0     \n",
       "3                                                NaN     \n",
       "4                                                  1     \n",
       "\n",
       "0 Overall Near-complete Response:  Looser Definition  \\\n",
       "0                                                  0   \n",
       "1                                                  2   \n",
       "2                                                  0   \n",
       "3                                                NaN   \n",
       "4                                                  1   \n",
       "\n",
       "0 Near-complete Response (Graded Measure)  \n",
       "0                                       0  \n",
       "1                                       4  \n",
       "2                                       0  \n",
       "3                                     NaN  \n",
       "4                                       1  \n",
       "\n",
       "[5 rows x 98 columns]"
      ]
     },
     "execution_count": 2,
     "metadata": {},
     "output_type": "execute_result"
    }
   ],
   "source": [
    "df = pd.read_excel('Clinical_and_Other_Features.xlsx')\n",
    "df.columns = df.iloc[0]\n",
    "df = df.iloc[2:]\n",
    "df.reset_index(drop=True, inplace=True)\n",
    "df.head()"
   ]
  },
  {
   "cell_type": "markdown",
   "metadata": {},
   "source": [
    "### MRI Technical Information"
   ]
  },
  {
   "cell_type": "markdown",
   "metadata": {},
   "source": [
    "MRI technical information. These fields were collected from the pre-contrast sequence and, if they were not available in the pre-contrast sequence, they were collected from the post-contrast sequences. To calculate the ‘Days to MRI from Diagnosis’, the date of diagnosis obtained in the clinical report was subtracted from the date of MRI acquisition.\n",
    "\n",
    "* Days to MRI from diagnosis\n",
    "* Manufacturer\n",
    "* Manufacturer model name\n",
    "* Scan option\n",
    "* Field strength (Tesla)\n",
    "* Patient position during MRI\n",
    "* Image position of patient\n",
    "* Contrast bolus volume (mL)\n",
    "* Repetition time\n",
    "* Echo time\n",
    "* Acquisition matrix\n",
    "* Slice thickness\n",
    "* Rows\n",
    "* Columns\n",
    "* Reconstruction diameter\n",
    "* Flip angle\n",
    "* Field of view (cm)"
   ]
  },
  {
   "cell_type": "code",
   "execution_count": 3,
   "metadata": {},
   "outputs": [],
   "source": [
    "# df.columns[1:19]\n",
    "mri_tech_cols = ['Days to MRI (From the Date of Diagnosis)', 'Manufacturer',\n",
    "       'Manufacturer Model Name', 'Scan Options', 'Field Strength (Tesla)',\n",
    "       'Patient Position During MRI', 'Image Position of Patient',\n",
    "       'Contrast Agent', 'Contrast Bolus Volume (mL)', 'TR (Repetition Time)',\n",
    "       'TE (Echo Time)', 'Acquisition Matrix', 'Slice Thickness ', 'Rows',\n",
    "       'Columns', 'Reconstruction Diameter ', 'Flip Angle \\n',\n",
    "       'FOV Computed (Field of View) in cm ']\n",
    "\n",
    "mri_tech_df = df[mri_tech_cols]"
   ]
  },
  {
   "cell_type": "code",
   "execution_count": 4,
   "metadata": {},
   "outputs": [
    {
     "data": {
      "text/html": [
       "<div>\n",
       "<style scoped>\n",
       "    .dataframe tbody tr th:only-of-type {\n",
       "        vertical-align: middle;\n",
       "    }\n",
       "\n",
       "    .dataframe tbody tr th {\n",
       "        vertical-align: top;\n",
       "    }\n",
       "\n",
       "    .dataframe thead th {\n",
       "        text-align: right;\n",
       "    }\n",
       "</style>\n",
       "<table border=\"1\" class=\"dataframe\">\n",
       "  <thead>\n",
       "    <tr style=\"text-align: right;\">\n",
       "      <th></th>\n",
       "      <th>Days to MRI (From the Date of Diagnosis)</th>\n",
       "      <th>Manufacturer</th>\n",
       "      <th>Manufacturer Model Name</th>\n",
       "      <th>Scan Options</th>\n",
       "      <th>Field Strength (Tesla)</th>\n",
       "      <th>Patient Position During MRI</th>\n",
       "      <th>Image Position of Patient</th>\n",
       "      <th>Contrast Agent</th>\n",
       "      <th>Contrast Bolus Volume (mL)</th>\n",
       "      <th>TR (Repetition Time)</th>\n",
       "      <th>TE (Echo Time)</th>\n",
       "      <th>Acquisition Matrix</th>\n",
       "      <th>Slice Thickness</th>\n",
       "      <th>Rows</th>\n",
       "      <th>Columns</th>\n",
       "      <th>Reconstruction Diameter</th>\n",
       "      <th>Flip Angle \\n</th>\n",
       "      <th>FOV Computed (Field of View) in cm</th>\n",
       "    </tr>\n",
       "  </thead>\n",
       "  <tbody>\n",
       "    <tr>\n",
       "      <th>0</th>\n",
       "      <td>6</td>\n",
       "      <td>2</td>\n",
       "      <td>0</td>\n",
       "      <td>5</td>\n",
       "      <td>1</td>\n",
       "      <td>0</td>\n",
       "      <td>-191.8003 X -176.1259 X 86.6065</td>\n",
       "      <td>1</td>\n",
       "      <td>15</td>\n",
       "      <td>4.12</td>\n",
       "      <td>1.36</td>\n",
       "      <td>9</td>\n",
       "      <td>5</td>\n",
       "      <td>1</td>\n",
       "      <td>1</td>\n",
       "      <td>NaN</td>\n",
       "      <td>3</td>\n",
       "      <td>15</td>\n",
       "    </tr>\n",
       "    <tr>\n",
       "      <th>1</th>\n",
       "      <td>12</td>\n",
       "      <td>0</td>\n",
       "      <td>4</td>\n",
       "      <td>1</td>\n",
       "      <td>3</td>\n",
       "      <td>0</td>\n",
       "      <td>154.724 X 176.048 X 94.5771</td>\n",
       "      <td>1</td>\n",
       "      <td>NaN</td>\n",
       "      <td>6.918</td>\n",
       "      <td>2.704</td>\n",
       "      <td>5</td>\n",
       "      <td>12</td>\n",
       "      <td>2</td>\n",
       "      <td>2</td>\n",
       "      <td>4</td>\n",
       "      <td>2</td>\n",
       "      <td>5</td>\n",
       "    </tr>\n",
       "    <tr>\n",
       "      <th>2</th>\n",
       "      <td>10</td>\n",
       "      <td>0</td>\n",
       "      <td>3</td>\n",
       "      <td>2</td>\n",
       "      <td>3</td>\n",
       "      <td>0</td>\n",
       "      <td>174.658 X 228.317 X 88.4878</td>\n",
       "      <td>1</td>\n",
       "      <td>NaN</td>\n",
       "      <td>5.527</td>\n",
       "      <td>2.416</td>\n",
       "      <td>2</td>\n",
       "      <td>18</td>\n",
       "      <td>2</td>\n",
       "      <td>2</td>\n",
       "      <td>10</td>\n",
       "      <td>2</td>\n",
       "      <td>14</td>\n",
       "    </tr>\n",
       "    <tr>\n",
       "      <th>3</th>\n",
       "      <td>18</td>\n",
       "      <td>0</td>\n",
       "      <td>4</td>\n",
       "      <td>1</td>\n",
       "      <td>1</td>\n",
       "      <td>0</td>\n",
       "      <td>188.148 X 194.282 X 94.1832</td>\n",
       "      <td>1</td>\n",
       "      <td>NaN</td>\n",
       "      <td>4.856</td>\n",
       "      <td>2.26</td>\n",
       "      <td>1</td>\n",
       "      <td>18</td>\n",
       "      <td>2</td>\n",
       "      <td>2</td>\n",
       "      <td>11</td>\n",
       "      <td>2</td>\n",
       "      <td>15</td>\n",
       "    </tr>\n",
       "    <tr>\n",
       "      <th>4</th>\n",
       "      <td>12</td>\n",
       "      <td>2</td>\n",
       "      <td>0</td>\n",
       "      <td>5</td>\n",
       "      <td>1</td>\n",
       "      <td>1</td>\n",
       "      <td>-173.063 X -150.7869 X 59.161</td>\n",
       "      <td>1</td>\n",
       "      <td>5</td>\n",
       "      <td>4.27</td>\n",
       "      <td>1.34</td>\n",
       "      <td>9</td>\n",
       "      <td>18</td>\n",
       "      <td>1</td>\n",
       "      <td>1</td>\n",
       "      <td>NaN</td>\n",
       "      <td>2</td>\n",
       "      <td>14</td>\n",
       "    </tr>\n",
       "    <tr>\n",
       "      <th>...</th>\n",
       "      <td>...</td>\n",
       "      <td>...</td>\n",
       "      <td>...</td>\n",
       "      <td>...</td>\n",
       "      <td>...</td>\n",
       "      <td>...</td>\n",
       "      <td>...</td>\n",
       "      <td>...</td>\n",
       "      <td>...</td>\n",
       "      <td>...</td>\n",
       "      <td>...</td>\n",
       "      <td>...</td>\n",
       "      <td>...</td>\n",
       "      <td>...</td>\n",
       "      <td>...</td>\n",
       "      <td>...</td>\n",
       "      <td>...</td>\n",
       "      <td>...</td>\n",
       "    </tr>\n",
       "    <tr>\n",
       "      <th>917</th>\n",
       "      <td>6</td>\n",
       "      <td>0</td>\n",
       "      <td>4</td>\n",
       "      <td>1</td>\n",
       "      <td>1</td>\n",
       "      <td>0</td>\n",
       "      <td>179.537 X 165.877 X 100</td>\n",
       "      <td>4</td>\n",
       "      <td>NaN</td>\n",
       "      <td>5.454</td>\n",
       "      <td>2.58</td>\n",
       "      <td>4</td>\n",
       "      <td>19</td>\n",
       "      <td>2</td>\n",
       "      <td>2</td>\n",
       "      <td>10</td>\n",
       "      <td>2</td>\n",
       "      <td>14</td>\n",
       "    </tr>\n",
       "    <tr>\n",
       "      <th>918</th>\n",
       "      <td>24</td>\n",
       "      <td>0</td>\n",
       "      <td>4</td>\n",
       "      <td>1</td>\n",
       "      <td>1</td>\n",
       "      <td>0</td>\n",
       "      <td>172.595 X 192.108 X 130.246</td>\n",
       "      <td>4</td>\n",
       "      <td>NaN</td>\n",
       "      <td>5.627</td>\n",
       "      <td>2.604</td>\n",
       "      <td>4</td>\n",
       "      <td>19</td>\n",
       "      <td>2</td>\n",
       "      <td>2</td>\n",
       "      <td>9</td>\n",
       "      <td>2</td>\n",
       "      <td>11</td>\n",
       "    </tr>\n",
       "    <tr>\n",
       "      <th>919</th>\n",
       "      <td>21</td>\n",
       "      <td>2</td>\n",
       "      <td>0</td>\n",
       "      <td>5</td>\n",
       "      <td>1</td>\n",
       "      <td>1</td>\n",
       "      <td>-173.6078 X -147.4121 X 78.5315</td>\n",
       "      <td>3</td>\n",
       "      <td>5</td>\n",
       "      <td>4.31</td>\n",
       "      <td>1.36</td>\n",
       "      <td>9</td>\n",
       "      <td>18</td>\n",
       "      <td>1</td>\n",
       "      <td>1</td>\n",
       "      <td>NaN</td>\n",
       "      <td>2</td>\n",
       "      <td>11</td>\n",
       "    </tr>\n",
       "    <tr>\n",
       "      <th>920</th>\n",
       "      <td>21</td>\n",
       "      <td>0</td>\n",
       "      <td>1</td>\n",
       "      <td>1</td>\n",
       "      <td>1</td>\n",
       "      <td>0</td>\n",
       "      <td>206.292 X 221.499 X 118.632</td>\n",
       "      <td>3</td>\n",
       "      <td>NaN</td>\n",
       "      <td>5.144</td>\n",
       "      <td>2.388</td>\n",
       "      <td>3</td>\n",
       "      <td>8</td>\n",
       "      <td>2</td>\n",
       "      <td>2</td>\n",
       "      <td>15</td>\n",
       "      <td>2</td>\n",
       "      <td>21</td>\n",
       "    </tr>\n",
       "    <tr>\n",
       "      <th>921</th>\n",
       "      <td>19</td>\n",
       "      <td>0</td>\n",
       "      <td>1</td>\n",
       "      <td>1</td>\n",
       "      <td>1</td>\n",
       "      <td>0</td>\n",
       "      <td>187.894 X 204.024 X 118.165</td>\n",
       "      <td>3</td>\n",
       "      <td>NaN</td>\n",
       "      <td>5.296</td>\n",
       "      <td>2.456</td>\n",
       "      <td>3</td>\n",
       "      <td>18</td>\n",
       "      <td>2</td>\n",
       "      <td>2</td>\n",
       "      <td>11</td>\n",
       "      <td>2</td>\n",
       "      <td>15</td>\n",
       "    </tr>\n",
       "  </tbody>\n",
       "</table>\n",
       "<p>922 rows × 18 columns</p>\n",
       "</div>"
      ],
      "text/plain": [
       "0   Days to MRI (From the Date of Diagnosis) Manufacturer  \\\n",
       "0                                          6            2   \n",
       "1                                         12            0   \n",
       "2                                         10            0   \n",
       "3                                         18            0   \n",
       "4                                         12            2   \n",
       "..                                       ...          ...   \n",
       "917                                        6            0   \n",
       "918                                       24            0   \n",
       "919                                       21            2   \n",
       "920                                       21            0   \n",
       "921                                       19            0   \n",
       "\n",
       "0   Manufacturer Model Name Scan Options Field Strength (Tesla)  \\\n",
       "0                         0            5                      1   \n",
       "1                         4            1                      3   \n",
       "2                         3            2                      3   \n",
       "3                         4            1                      1   \n",
       "4                         0            5                      1   \n",
       "..                      ...          ...                    ...   \n",
       "917                       4            1                      1   \n",
       "918                       4            1                      1   \n",
       "919                       0            5                      1   \n",
       "920                       1            1                      1   \n",
       "921                       1            1                      1   \n",
       "\n",
       "0   Patient Position During MRI        Image Position of Patient  \\\n",
       "0                             0  -191.8003 X -176.1259 X 86.6065   \n",
       "1                             0      154.724 X 176.048 X 94.5771   \n",
       "2                             0      174.658 X 228.317 X 88.4878   \n",
       "3                             0      188.148 X 194.282 X 94.1832   \n",
       "4                             1    -173.063 X -150.7869 X 59.161   \n",
       "..                          ...                              ...   \n",
       "917                           0          179.537 X 165.877 X 100   \n",
       "918                           0      172.595 X 192.108 X 130.246   \n",
       "919                           1  -173.6078 X -147.4121 X 78.5315   \n",
       "920                           0      206.292 X 221.499 X 118.632   \n",
       "921                           0      187.894 X 204.024 X 118.165   \n",
       "\n",
       "0   Contrast Agent Contrast Bolus Volume (mL) TR (Repetition Time)  \\\n",
       "0                1                         15                 4.12   \n",
       "1                1                        NaN                6.918   \n",
       "2                1                        NaN                5.527   \n",
       "3                1                        NaN                4.856   \n",
       "4                1                          5                 4.27   \n",
       "..             ...                        ...                  ...   \n",
       "917              4                        NaN                5.454   \n",
       "918              4                        NaN                5.627   \n",
       "919              3                          5                 4.31   \n",
       "920              3                        NaN                5.144   \n",
       "921              3                        NaN                5.296   \n",
       "\n",
       "0   TE (Echo Time) Acquisition Matrix Slice Thickness  Rows Columns  \\\n",
       "0             1.36                  9                5    1       1   \n",
       "1            2.704                  5               12    2       2   \n",
       "2            2.416                  2               18    2       2   \n",
       "3             2.26                  1               18    2       2   \n",
       "4             1.34                  9               18    1       1   \n",
       "..             ...                ...              ...  ...     ...   \n",
       "917           2.58                  4               19    2       2   \n",
       "918          2.604                  4               19    2       2   \n",
       "919           1.36                  9               18    1       1   \n",
       "920          2.388                  3                8    2       2   \n",
       "921          2.456                  3               18    2       2   \n",
       "\n",
       "0   Reconstruction Diameter  Flip Angle \\n FOV Computed (Field of View) in cm   \n",
       "0                        NaN             3                                  15  \n",
       "1                          4             2                                   5  \n",
       "2                         10             2                                  14  \n",
       "3                         11             2                                  15  \n",
       "4                        NaN             2                                  14  \n",
       "..                       ...           ...                                 ...  \n",
       "917                       10             2                                  14  \n",
       "918                        9             2                                  11  \n",
       "919                      NaN             2                                  11  \n",
       "920                       15             2                                  21  \n",
       "921                       11             2                                  15  \n",
       "\n",
       "[922 rows x 18 columns]"
      ]
     },
     "execution_count": 4,
     "metadata": {},
     "output_type": "execute_result"
    }
   ],
   "source": [
    "mri_tech_df"
   ]
  },
  {
   "cell_type": "markdown",
   "metadata": {},
   "source": [
    "### Demographics"
   ]
  },
  {
   "cell_type": "markdown",
   "metadata": {},
   "source": [
    "Demographics. These data were obtained from the Oncology clinic note in the electronic medical record.\n",
    "\n",
    "* Age in days at diagnosis\n",
    "* Menopausal status at diagnosis (based on clinical notes in the electronic medical record)\n",
    "* Race/ethnicity (White, Black, Asian, Native American, Hispanic, Multiethnic, Hawaiin, American Indian)\n",
    "* Metastatic disease at presentation (no,yes)"
   ]
  },
  {
   "cell_type": "code",
   "execution_count": 5,
   "metadata": {},
   "outputs": [
    {
     "data": {
      "text/html": [
       "<div>\n",
       "<style scoped>\n",
       "    .dataframe tbody tr th:only-of-type {\n",
       "        vertical-align: middle;\n",
       "    }\n",
       "\n",
       "    .dataframe tbody tr th {\n",
       "        vertical-align: top;\n",
       "    }\n",
       "\n",
       "    .dataframe thead th {\n",
       "        text-align: right;\n",
       "    }\n",
       "</style>\n",
       "<table border=\"1\" class=\"dataframe\">\n",
       "  <thead>\n",
       "    <tr style=\"text-align: right;\">\n",
       "      <th></th>\n",
       "      <th>Date of Birth (Days)</th>\n",
       "      <th>Menopause (at diagnosis)</th>\n",
       "      <th>Race and Ethnicity</th>\n",
       "      <th>Metastatic at Presentation (Outside of Lymph Nodes)</th>\n",
       "    </tr>\n",
       "  </thead>\n",
       "  <tbody>\n",
       "    <tr>\n",
       "      <th>0</th>\n",
       "      <td>-15209</td>\n",
       "      <td>0</td>\n",
       "      <td>2</td>\n",
       "      <td>0</td>\n",
       "    </tr>\n",
       "    <tr>\n",
       "      <th>1</th>\n",
       "      <td>-14061</td>\n",
       "      <td>0</td>\n",
       "      <td>2</td>\n",
       "      <td>0</td>\n",
       "    </tr>\n",
       "    <tr>\n",
       "      <th>2</th>\n",
       "      <td>-22685</td>\n",
       "      <td>1</td>\n",
       "      <td>1</td>\n",
       "      <td>0</td>\n",
       "    </tr>\n",
       "    <tr>\n",
       "      <th>3</th>\n",
       "      <td>-21479</td>\n",
       "      <td>1</td>\n",
       "      <td>1</td>\n",
       "      <td>0</td>\n",
       "    </tr>\n",
       "    <tr>\n",
       "      <th>4</th>\n",
       "      <td>-13932</td>\n",
       "      <td>0</td>\n",
       "      <td>5</td>\n",
       "      <td>0</td>\n",
       "    </tr>\n",
       "  </tbody>\n",
       "</table>\n",
       "</div>"
      ],
      "text/plain": [
       "0 Date of Birth (Days) Menopause (at diagnosis) Race and Ethnicity  \\\n",
       "0               -15209                        0                  2   \n",
       "1               -14061                        0                  2   \n",
       "2               -22685                        1                  1   \n",
       "3               -21479                        1                  1   \n",
       "4               -13932                        0                  5   \n",
       "\n",
       "0 Metastatic at Presentation (Outside of Lymph Nodes)  \n",
       "0                                                  0   \n",
       "1                                                  0   \n",
       "2                                                  0   \n",
       "3                                                  0   \n",
       "4                                                  0   "
      ]
     },
     "execution_count": 5,
     "metadata": {},
     "output_type": "execute_result"
    }
   ],
   "source": [
    "# demographics = df[19:23]\n",
    "# df.columns[19:23]\n",
    "demographics = ['Date of Birth (Days)', 'Menopause (at diagnosis)',\n",
    "       'Race and Ethnicity',\n",
    "       'Metastatic at Presentation (Outside of Lymph Nodes)']\n",
    "\n",
    "demographics_df = df[demographics]\n",
    "demographics_df.head()"
   ]
  },
  {
   "cell_type": "markdown",
   "metadata": {},
   "source": [
    "* Taking date of diagnosis as day 0 [Functional Check : numeric entries will be negative only, non-numeric ones will be NA or NC ]\n",
    "* {0 = pre,\n",
    "1 = post,\n",
    "2 = N/A}\n",
    "* Race : {0 = N/A\n",
    "1 = white,\n",
    "2 = black,\n",
    "3 = asian,\n",
    "4 = native,\n",
    "5 = hispanic,\n",
    "6 = multi,\n",
    "7 = hawa,    8 = amer indian}\n",
    "* {0 = no\n",
    "1 = yes}"
   ]
  },
  {
   "cell_type": "code",
   "execution_count": 6,
   "metadata": {},
   "outputs": [
    {
     "data": {
      "text/plain": [
       "0\n",
       "Date of Birth (Days)                                   0\n",
       "Menopause (at diagnosis)                               0\n",
       "Race and Ethnicity                                     0\n",
       "Metastatic at Presentation (Outside of Lymph Nodes)    0\n",
       "dtype: int64"
      ]
     },
     "execution_count": 6,
     "metadata": {},
     "output_type": "execute_result"
    }
   ],
   "source": [
    "demographics_df.isnull().sum()"
   ]
  },
  {
   "cell_type": "markdown",
   "metadata": {},
   "source": [
    "### Tumor Characteristics"
   ]
  },
  {
   "cell_type": "markdown",
   "metadata": {},
   "source": [
    "Tumor Characteristics. These data were obtained from the pathology biopsy report.\n",
    "\n",
    "* Estrogen receptor status (negative, positive)\n",
    "* Progesterone receptor status (negative, positive)\n",
    "* Human epidermal growth factor 2 receptor status (negative, positive)\n",
    "* Molecular subtype (luminal-like, ER/PR positive and HER2 positive, HER2, triple negative)\n",
    "* Oncotype score\n",
    "* TNM staging (based on combined pathologic and clinical staging)\n",
    "* Tumor grade (tubule, nuclear, and mitotic)\n",
    "* Nottingham grade (low, intermediate, high)\n",
    "* Histologic type (ductal carcinoma in situ, invasive ductal carcinoma, invasive lobular carcinoma, metaplastic, * * * lobular carcinoma in situ, tubular, mixed type, micropapillary, colloid)\n",
    "* Tumor location (left,right)\n",
    "* Tumor position (clock face position, i.e. L 12 means left breast 12 o’clock)\n",
    "* Bilateral breast cancer (yes,no), if bilateral breast cancer different receptor status (yes,no)\n",
    "* Side annotated on the imaging (left,right)\n",
    "* For other side if bilateral: side of cancer, oncotype score, nottingham grade, ER status, PR status, HER2 status, molecular subtype)"
   ]
  },
  {
   "cell_type": "code",
   "execution_count": 7,
   "metadata": {},
   "outputs": [],
   "source": [
    "tumor_characteristics = ['ER', 'PR', 'HER2', 'Mol Subtype', 'Oncotype score', 'Staging(Tumor Size)# [T]', 'Staging(Nodes)#(Nx replaced by -1)[N]', 'Staging(Metastasis)#(Mx -replaced by -1)[M]',\n",
    "       'Tumor Grade(T) (Tubule)', 'Tumor Grade(N) (Nuclear)', 'Tumor Grade(M) (Mitotic)', 'Nottingham grade', 'Histologic type', 'Tumor Location', 'Position' ,'Bilateral Information',\n",
    "        'If Bilateral, Different Rec Status {0=no 1=yes}', 'Side Annotated {L=left R=right}', 'For Other Side If Bilateral', \n",
    "        'Oncotype score (for the other side){##}', 'Nottingham grade (for the other side){#}', 'ER (for the other side) {0 = neg, 1 = pos}', 'PR (for the other side) {0 = neg, 1 = pos}', \n",
    "        'HER2 (for the other side) {0 = neg, 1 = pos, 2=borderline}', 'Mol Subtype (for the other side) {0 = luminal-like, 1 = ER/PR pos, HER2 pos, 2 = her2, 3 = trip neg}']"
   ]
  },
  {
   "cell_type": "code",
   "execution_count": 8,
   "metadata": {},
   "outputs": [],
   "source": [
    "assert len(df.columns) == len(list(df.columns[:23]) + tumor_characteristics + list(df.columns[48:]))\n",
    "df.columns = list(df.columns[:23]) + tumor_characteristics + list(df.columns[48:])"
   ]
  },
  {
   "cell_type": "code",
   "execution_count": 9,
   "metadata": {},
   "outputs": [
    {
     "data": {
      "text/html": [
       "<div>\n",
       "<style scoped>\n",
       "    .dataframe tbody tr th:only-of-type {\n",
       "        vertical-align: middle;\n",
       "    }\n",
       "\n",
       "    .dataframe tbody tr th {\n",
       "        vertical-align: top;\n",
       "    }\n",
       "\n",
       "    .dataframe thead th {\n",
       "        text-align: right;\n",
       "    }\n",
       "</style>\n",
       "<table border=\"1\" class=\"dataframe\">\n",
       "  <thead>\n",
       "    <tr style=\"text-align: right;\">\n",
       "      <th></th>\n",
       "      <th>ER</th>\n",
       "      <th>PR</th>\n",
       "      <th>HER2</th>\n",
       "      <th>Mol Subtype</th>\n",
       "      <th>Oncotype score</th>\n",
       "      <th>Staging(Tumor Size)# [T]</th>\n",
       "      <th>Staging(Nodes)#(Nx replaced by -1)[N]</th>\n",
       "      <th>Staging(Metastasis)#(Mx -replaced by -1)[M]</th>\n",
       "      <th>Tumor Grade(T) (Tubule)</th>\n",
       "      <th>Tumor Grade(N) (Nuclear)</th>\n",
       "      <th>...</th>\n",
       "      <th>Bilateral Information</th>\n",
       "      <th>If Bilateral, Different Rec Status {0=no 1=yes}</th>\n",
       "      <th>Side Annotated {L=left R=right}</th>\n",
       "      <th>For Other Side If Bilateral</th>\n",
       "      <th>Oncotype score (for the other side){##}</th>\n",
       "      <th>Nottingham grade (for the other side){#}</th>\n",
       "      <th>ER (for the other side) {0 = neg, 1 = pos}</th>\n",
       "      <th>PR (for the other side) {0 = neg, 1 = pos}</th>\n",
       "      <th>HER2 (for the other side) {0 = neg, 1 = pos, 2=borderline}</th>\n",
       "      <th>Mol Subtype (for the other side) {0 = luminal-like, 1 = ER/PR pos, HER2 pos, 2 = her2, 3 = trip neg}</th>\n",
       "    </tr>\n",
       "  </thead>\n",
       "  <tbody>\n",
       "    <tr>\n",
       "      <th>0</th>\n",
       "      <td>0</td>\n",
       "      <td>0</td>\n",
       "      <td>1</td>\n",
       "      <td>2</td>\n",
       "      <td>NaN</td>\n",
       "      <td>2</td>\n",
       "      <td>1</td>\n",
       "      <td>0</td>\n",
       "      <td>3</td>\n",
       "      <td>2</td>\n",
       "      <td>...</td>\n",
       "      <td>0</td>\n",
       "      <td>NP</td>\n",
       "      <td>NP</td>\n",
       "      <td>NP</td>\n",
       "      <td>NP</td>\n",
       "      <td>NP</td>\n",
       "      <td>NP</td>\n",
       "      <td>NP</td>\n",
       "      <td>NP</td>\n",
       "      <td>NP</td>\n",
       "    </tr>\n",
       "    <tr>\n",
       "      <th>1</th>\n",
       "      <td>0</td>\n",
       "      <td>0</td>\n",
       "      <td>0</td>\n",
       "      <td>3</td>\n",
       "      <td>NaN</td>\n",
       "      <td>2</td>\n",
       "      <td>0</td>\n",
       "      <td>0</td>\n",
       "      <td>3</td>\n",
       "      <td>3</td>\n",
       "      <td>...</td>\n",
       "      <td>0</td>\n",
       "      <td>NP</td>\n",
       "      <td>NP</td>\n",
       "      <td>NP</td>\n",
       "      <td>NP</td>\n",
       "      <td>NP</td>\n",
       "      <td>NP</td>\n",
       "      <td>NP</td>\n",
       "      <td>NP</td>\n",
       "      <td>NP</td>\n",
       "    </tr>\n",
       "    <tr>\n",
       "      <th>2</th>\n",
       "      <td>1</td>\n",
       "      <td>1</td>\n",
       "      <td>0</td>\n",
       "      <td>0</td>\n",
       "      <td>8</td>\n",
       "      <td>2</td>\n",
       "      <td>1</td>\n",
       "      <td>0</td>\n",
       "      <td>3</td>\n",
       "      <td>2</td>\n",
       "      <td>...</td>\n",
       "      <td>NC</td>\n",
       "      <td>NC</td>\n",
       "      <td>NC</td>\n",
       "      <td>NC</td>\n",
       "      <td>NC</td>\n",
       "      <td>NC</td>\n",
       "      <td>NC</td>\n",
       "      <td>NC</td>\n",
       "      <td>NC</td>\n",
       "      <td>NC</td>\n",
       "    </tr>\n",
       "    <tr>\n",
       "      <th>3</th>\n",
       "      <td>1</td>\n",
       "      <td>1</td>\n",
       "      <td>0</td>\n",
       "      <td>0</td>\n",
       "      <td>14</td>\n",
       "      <td>1</td>\n",
       "      <td>0</td>\n",
       "      <td>0</td>\n",
       "      <td>3</td>\n",
       "      <td>2</td>\n",
       "      <td>...</td>\n",
       "      <td>0</td>\n",
       "      <td>NP</td>\n",
       "      <td>NP</td>\n",
       "      <td>NP</td>\n",
       "      <td>NP</td>\n",
       "      <td>NP</td>\n",
       "      <td>NP</td>\n",
       "      <td>NP</td>\n",
       "      <td>NP</td>\n",
       "      <td>NP</td>\n",
       "    </tr>\n",
       "    <tr>\n",
       "      <th>4</th>\n",
       "      <td>1</td>\n",
       "      <td>0</td>\n",
       "      <td>1</td>\n",
       "      <td>1</td>\n",
       "      <td>NaN</td>\n",
       "      <td>2</td>\n",
       "      <td>1</td>\n",
       "      <td>0</td>\n",
       "      <td>3</td>\n",
       "      <td>3</td>\n",
       "      <td>...</td>\n",
       "      <td>0</td>\n",
       "      <td>NP</td>\n",
       "      <td>NP</td>\n",
       "      <td>NP</td>\n",
       "      <td>NP</td>\n",
       "      <td>NP</td>\n",
       "      <td>NP</td>\n",
       "      <td>NP</td>\n",
       "      <td>NP</td>\n",
       "      <td>NP</td>\n",
       "    </tr>\n",
       "  </tbody>\n",
       "</table>\n",
       "<p>5 rows × 25 columns</p>\n",
       "</div>"
      ],
      "text/plain": [
       "  ER PR HER2 Mol Subtype Oncotype score Staging(Tumor Size)# [T]  \\\n",
       "0  0  0    1           2            NaN                        2   \n",
       "1  0  0    0           3            NaN                        2   \n",
       "2  1  1    0           0              8                        2   \n",
       "3  1  1    0           0             14                        1   \n",
       "4  1  0    1           1            NaN                        2   \n",
       "\n",
       "  Staging(Nodes)#(Nx replaced by -1)[N]  \\\n",
       "0                                     1   \n",
       "1                                     0   \n",
       "2                                     1   \n",
       "3                                     0   \n",
       "4                                     1   \n",
       "\n",
       "  Staging(Metastasis)#(Mx -replaced by -1)[M] Tumor Grade(T) (Tubule)  \\\n",
       "0                                           0                       3   \n",
       "1                                           0                       3   \n",
       "2                                           0                       3   \n",
       "3                                           0                       3   \n",
       "4                                           0                       3   \n",
       "\n",
       "  Tumor Grade(N) (Nuclear)  ... Bilateral Information  \\\n",
       "0                        2  ...                     0   \n",
       "1                        3  ...                     0   \n",
       "2                        2  ...                    NC   \n",
       "3                        2  ...                     0   \n",
       "4                        3  ...                     0   \n",
       "\n",
       "  If Bilateral, Different Rec Status {0=no 1=yes}  \\\n",
       "0                                              NP   \n",
       "1                                              NP   \n",
       "2                                              NC   \n",
       "3                                              NP   \n",
       "4                                              NP   \n",
       "\n",
       "  Side Annotated {L=left R=right} For Other Side If Bilateral  \\\n",
       "0                              NP                          NP   \n",
       "1                              NP                          NP   \n",
       "2                              NC                          NC   \n",
       "3                              NP                          NP   \n",
       "4                              NP                          NP   \n",
       "\n",
       "  Oncotype score (for the other side){##}  \\\n",
       "0                                      NP   \n",
       "1                                      NP   \n",
       "2                                      NC   \n",
       "3                                      NP   \n",
       "4                                      NP   \n",
       "\n",
       "  Nottingham grade (for the other side){#}  \\\n",
       "0                                       NP   \n",
       "1                                       NP   \n",
       "2                                       NC   \n",
       "3                                       NP   \n",
       "4                                       NP   \n",
       "\n",
       "  ER (for the other side) {0 = neg, 1 = pos}  \\\n",
       "0                                         NP   \n",
       "1                                         NP   \n",
       "2                                         NC   \n",
       "3                                         NP   \n",
       "4                                         NP   \n",
       "\n",
       "  PR (for the other side) {0 = neg, 1 = pos}  \\\n",
       "0                                         NP   \n",
       "1                                         NP   \n",
       "2                                         NC   \n",
       "3                                         NP   \n",
       "4                                         NP   \n",
       "\n",
       "  HER2 (for the other side) {0 = neg, 1 = pos, 2=borderline}  \\\n",
       "0                                                 NP           \n",
       "1                                                 NP           \n",
       "2                                                 NC           \n",
       "3                                                 NP           \n",
       "4                                                 NP           \n",
       "\n",
       "  Mol Subtype (for the other side) {0 = luminal-like, 1 = ER/PR pos, HER2 pos, 2 = her2, 3 = trip neg}  \n",
       "0                                                 NP                                                    \n",
       "1                                                 NP                                                    \n",
       "2                                                 NC                                                    \n",
       "3                                                 NP                                                    \n",
       "4                                                 NP                                                    \n",
       "\n",
       "[5 rows x 25 columns]"
      ]
     },
     "execution_count": 9,
     "metadata": {},
     "output_type": "execute_result"
    }
   ],
   "source": [
    "df[tumor_characteristics].head()"
   ]
  },
  {
   "cell_type": "code",
   "execution_count": 10,
   "metadata": {},
   "outputs": [
    {
     "data": {
      "text/plain": [
       "922"
      ]
     },
     "execution_count": 10,
     "metadata": {},
     "output_type": "execute_result"
    }
   ],
   "source": [
    "# total number of rows\n",
    "df.shape[0]"
   ]
  },
  {
   "cell_type": "code",
   "execution_count": 11,
   "metadata": {},
   "outputs": [
    {
     "data": {
      "text/plain": [
       "ER                                                                                                        0\n",
       "PR                                                                                                        0\n",
       "HER2                                                                                                      0\n",
       "Mol Subtype                                                                                               0\n",
       "Oncotype score                                                                                          661\n",
       "Staging(Tumor Size)# [T]                                                                                  6\n",
       "Staging(Nodes)#(Nx replaced by -1)[N]                                                                    24\n",
       "Staging(Metastasis)#(Mx -replaced by -1)[M]                                                               0\n",
       "Tumor Grade(T) (Tubule)                                                                                  15\n",
       "Tumor Grade(N) (Nuclear)                                                                                  7\n",
       "Tumor Grade(M) (Mitotic)                                                                                 21\n",
       "Nottingham grade                                                                                        284\n",
       "Histologic type                                                                                         276\n",
       "Tumor Location                                                                                          271\n",
       "Position                                                                                                  0\n",
       "Bilateral Information                                                                                     0\n",
       "If Bilateral, Different Rec Status {0=no 1=yes}                                                           0\n",
       "Side Annotated {L=left R=right}                                                                           0\n",
       "For Other Side If Bilateral                                                                               0\n",
       "Oncotype score (for the other side){##}                                                                  26\n",
       "Nottingham grade (for the other side){#}                                                                  1\n",
       "ER (for the other side) {0 = neg, 1 = pos}                                                                0\n",
       "PR (for the other side) {0 = neg, 1 = pos}                                                                0\n",
       "HER2 (for the other side) {0 = neg, 1 = pos, 2=borderline}                                                0\n",
       "Mol Subtype (for the other side) {0 = luminal-like, 1 = ER/PR pos, HER2 pos, 2 = her2, 3 = trip neg}      0\n",
       "dtype: int64"
      ]
     },
     "execution_count": 11,
     "metadata": {},
     "output_type": "execute_result"
    }
   ],
   "source": [
    "# tumor_characteristics = \n",
    "df[tumor_characteristics].isnull().sum()"
   ]
  },
  {
   "cell_type": "markdown",
   "metadata": {},
   "source": [
    "### MRI Findings"
   ]
  },
  {
   "cell_type": "markdown",
   "metadata": {},
   "source": [
    "MRI Findings. These data were obtained from the radiologist MRI report.\n",
    "\n",
    "* Multicentric/multifocal (no,yes)\n",
    "* Contralateral breast involvement (no,yes)\n",
    "* Lymphadenopathy or suspicious lymph nodes (no,yes)\n",
    "* Skin/nipple involvement (no,yes)\n",
    "* Pectoral muscle/chest involvement (no,yes)"
   ]
  },
  {
   "cell_type": "code",
   "execution_count": 12,
   "metadata": {},
   "outputs": [
    {
     "data": {
      "text/html": [
       "<div>\n",
       "<style scoped>\n",
       "    .dataframe tbody tr th:only-of-type {\n",
       "        vertical-align: middle;\n",
       "    }\n",
       "\n",
       "    .dataframe tbody tr th {\n",
       "        vertical-align: top;\n",
       "    }\n",
       "\n",
       "    .dataframe thead th {\n",
       "        text-align: right;\n",
       "    }\n",
       "</style>\n",
       "<table border=\"1\" class=\"dataframe\">\n",
       "  <thead>\n",
       "    <tr style=\"text-align: right;\">\n",
       "      <th></th>\n",
       "      <th>Multicentric/Multifocal</th>\n",
       "      <th>Contralateral Breast Involvement</th>\n",
       "      <th>Lymphadenopathy or Suspicious Nodes</th>\n",
       "      <th>Skin/Nipple Invovlement</th>\n",
       "      <th>Pec/Chest Involvement</th>\n",
       "    </tr>\n",
       "  </thead>\n",
       "  <tbody>\n",
       "    <tr>\n",
       "      <th>0</th>\n",
       "      <td>0</td>\n",
       "      <td>0</td>\n",
       "      <td>0</td>\n",
       "      <td>0</td>\n",
       "      <td>0</td>\n",
       "    </tr>\n",
       "    <tr>\n",
       "      <th>1</th>\n",
       "      <td>0</td>\n",
       "      <td>0</td>\n",
       "      <td>0</td>\n",
       "      <td>0</td>\n",
       "      <td>0</td>\n",
       "    </tr>\n",
       "    <tr>\n",
       "      <th>2</th>\n",
       "      <td>1</td>\n",
       "      <td>0</td>\n",
       "      <td>1</td>\n",
       "      <td>0</td>\n",
       "      <td>0</td>\n",
       "    </tr>\n",
       "    <tr>\n",
       "      <th>3</th>\n",
       "      <td>0</td>\n",
       "      <td>0</td>\n",
       "      <td>0</td>\n",
       "      <td>0</td>\n",
       "      <td>0</td>\n",
       "    </tr>\n",
       "    <tr>\n",
       "      <th>4</th>\n",
       "      <td>1</td>\n",
       "      <td>0</td>\n",
       "      <td>1</td>\n",
       "      <td>0</td>\n",
       "      <td>0</td>\n",
       "    </tr>\n",
       "  </tbody>\n",
       "</table>\n",
       "</div>"
      ],
      "text/plain": [
       "  Multicentric/Multifocal Contralateral Breast Involvement  \\\n",
       "0                       0                                0   \n",
       "1                       0                                0   \n",
       "2                       1                                0   \n",
       "3                       0                                0   \n",
       "4                       1                                0   \n",
       "\n",
       "  Lymphadenopathy or Suspicious Nodes Skin/Nipple Invovlement  \\\n",
       "0                                   0                       0   \n",
       "1                                   0                       0   \n",
       "2                                   1                       0   \n",
       "3                                   0                       0   \n",
       "4                                   1                       0   \n",
       "\n",
       "  Pec/Chest Involvement  \n",
       "0                     0  \n",
       "1                     0  \n",
       "2                     0  \n",
       "3                     0  \n",
       "4                     0  "
      ]
     },
     "execution_count": 12,
     "metadata": {},
     "output_type": "execute_result"
    }
   ],
   "source": [
    "mri_findings = df.columns[48:53]\n",
    "mri_findings_df = df[mri_findings]\n",
    "mri_findings_df.head()"
   ]
  },
  {
   "cell_type": "code",
   "execution_count": 15,
   "metadata": {},
   "outputs": [
    {
     "data": {
      "text/plain": [
       "Index(['Multicentric/Multifocal', 'Contralateral Breast Involvement',\n",
       "       'Lymphadenopathy or Suspicious Nodes', 'Skin/Nipple Invovlement',\n",
       "       'Pec/Chest Involvement'],\n",
       "      dtype='object')"
      ]
     },
     "execution_count": 15,
     "metadata": {},
     "output_type": "execute_result"
    }
   ],
   "source": [
    "mri_findings"
   ]
  },
  {
   "cell_type": "code",
   "execution_count": 20,
   "metadata": {},
   "outputs": [
    {
     "data": {
      "text/plain": [
       "Multicentric/Multifocal                0\n",
       "Contralateral Breast Involvement       0\n",
       "Lymphadenopathy or Suspicious Nodes    0\n",
       "Skin/Nipple Invovlement                0\n",
       "Pec/Chest Involvement                  0\n",
       "dtype: int64"
      ]
     },
     "execution_count": 20,
     "metadata": {},
     "output_type": "execute_result"
    }
   ],
   "source": [
    "mri_findings_df.isnull().sum()"
   ]
  },
  {
   "cell_type": "markdown",
   "metadata": {},
   "source": [
    "### Surgery"
   ]
  },
  {
   "cell_type": "markdown",
   "metadata": {},
   "source": [
    "Surgery. These data were obtained from the Oncology clinic note in the electronic medical record.\n",
    "\n",
    "* Surgery status (no,yes)\n",
    "* Days to surgery from diagnosis\n",
    "* Definitive surgery type (breast conservation therapy, mastectomy)"
   ]
  },
  {
   "cell_type": "code",
   "execution_count": 16,
   "metadata": {},
   "outputs": [
    {
     "data": {
      "text/html": [
       "<div>\n",
       "<style scoped>\n",
       "    .dataframe tbody tr th:only-of-type {\n",
       "        vertical-align: middle;\n",
       "    }\n",
       "\n",
       "    .dataframe tbody tr th {\n",
       "        vertical-align: top;\n",
       "    }\n",
       "\n",
       "    .dataframe thead th {\n",
       "        text-align: right;\n",
       "    }\n",
       "</style>\n",
       "<table border=\"1\" class=\"dataframe\">\n",
       "  <thead>\n",
       "    <tr style=\"text-align: right;\">\n",
       "      <th></th>\n",
       "      <th>Surgery</th>\n",
       "      <th>Days to Surgery (from the date of diagnosis)</th>\n",
       "      <th>Definitive Surgery Type</th>\n",
       "    </tr>\n",
       "  </thead>\n",
       "  <tbody>\n",
       "    <tr>\n",
       "      <th>0</th>\n",
       "      <td>1</td>\n",
       "      <td>257</td>\n",
       "      <td>0</td>\n",
       "    </tr>\n",
       "    <tr>\n",
       "      <th>1</th>\n",
       "      <td>1</td>\n",
       "      <td>192</td>\n",
       "      <td>0</td>\n",
       "    </tr>\n",
       "    <tr>\n",
       "      <th>2</th>\n",
       "      <td>1</td>\n",
       "      <td>168</td>\n",
       "      <td>1</td>\n",
       "    </tr>\n",
       "    <tr>\n",
       "      <th>3</th>\n",
       "      <td>1</td>\n",
       "      <td>29</td>\n",
       "      <td>0</td>\n",
       "    </tr>\n",
       "    <tr>\n",
       "      <th>4</th>\n",
       "      <td>1</td>\n",
       "      <td>159</td>\n",
       "      <td>1</td>\n",
       "    </tr>\n",
       "  </tbody>\n",
       "</table>\n",
       "</div>"
      ],
      "text/plain": [
       "  Surgery Days to Surgery (from the date of diagnosis) Definitive Surgery Type\n",
       "0       1                                          257                       0\n",
       "1       1                                          192                       0\n",
       "2       1                                          168                       1\n",
       "3       1                                           29                       0\n",
       "4       1                                          159                       1"
      ]
     },
     "execution_count": 16,
     "metadata": {},
     "output_type": "execute_result"
    }
   ],
   "source": [
    "surgery = df.columns[53:56]\n",
    "surgery_df = df[surgery]\n",
    "surgery_df.head()"
   ]
  },
  {
   "cell_type": "code",
   "execution_count": 17,
   "metadata": {},
   "outputs": [
    {
     "data": {
      "text/plain": [
       "Index(['Surgery', 'Days to Surgery (from the date of diagnosis)',\n",
       "       'Definitive Surgery Type'],\n",
       "      dtype='object')"
      ]
     },
     "execution_count": 17,
     "metadata": {},
     "output_type": "execute_result"
    }
   ],
   "source": [
    "surgery"
   ]
  },
  {
   "cell_type": "code",
   "execution_count": 22,
   "metadata": {},
   "outputs": [
    {
     "data": {
      "text/plain": [
       "Surgery                                          7\n",
       "Days to Surgery (from the date of diagnosis)    11\n",
       "Definitive Surgery Type                          7\n",
       "dtype: int64"
      ]
     },
     "execution_count": 22,
     "metadata": {},
     "output_type": "execute_result"
    }
   ],
   "source": [
    "surgery_df.isnull().sum()"
   ]
  },
  {
   "cell_type": "markdown",
   "metadata": {},
   "source": [
    "### Radiation Therapy"
   ]
  },
  {
   "cell_type": "markdown",
   "metadata": {},
   "source": [
    "Radiation Therapy. These data were obtained from the Oncology clinic note in the electronic medical record.\n",
    "\n",
    "* Neoadjuvant radiation (no,yes)\n",
    "* Adjuvant radiation (no,yes)"
   ]
  },
  {
   "cell_type": "code",
   "execution_count": 18,
   "metadata": {},
   "outputs": [
    {
     "data": {
      "text/html": [
       "<div>\n",
       "<style scoped>\n",
       "    .dataframe tbody tr th:only-of-type {\n",
       "        vertical-align: middle;\n",
       "    }\n",
       "\n",
       "    .dataframe tbody tr th {\n",
       "        vertical-align: top;\n",
       "    }\n",
       "\n",
       "    .dataframe thead th {\n",
       "        text-align: right;\n",
       "    }\n",
       "</style>\n",
       "<table border=\"1\" class=\"dataframe\">\n",
       "  <thead>\n",
       "    <tr style=\"text-align: right;\">\n",
       "      <th></th>\n",
       "      <th>Neoadjuvant Radiation Therapy</th>\n",
       "      <th>Adjuvant Radiation Therapy</th>\n",
       "    </tr>\n",
       "  </thead>\n",
       "  <tbody>\n",
       "    <tr>\n",
       "      <th>0</th>\n",
       "      <td>0</td>\n",
       "      <td>1</td>\n",
       "    </tr>\n",
       "    <tr>\n",
       "      <th>1</th>\n",
       "      <td>0</td>\n",
       "      <td>1</td>\n",
       "    </tr>\n",
       "    <tr>\n",
       "      <th>2</th>\n",
       "      <td>0</td>\n",
       "      <td>0</td>\n",
       "    </tr>\n",
       "    <tr>\n",
       "      <th>3</th>\n",
       "      <td>0</td>\n",
       "      <td>1</td>\n",
       "    </tr>\n",
       "    <tr>\n",
       "      <th>4</th>\n",
       "      <td>0</td>\n",
       "      <td>1</td>\n",
       "    </tr>\n",
       "  </tbody>\n",
       "</table>\n",
       "</div>"
      ],
      "text/plain": [
       "  Neoadjuvant Radiation Therapy Adjuvant Radiation Therapy\n",
       "0                             0                          1\n",
       "1                             0                          1\n",
       "2                             0                          0\n",
       "3                             0                          1\n",
       "4                             0                          1"
      ]
     },
     "execution_count": 18,
     "metadata": {},
     "output_type": "execute_result"
    }
   ],
   "source": [
    "radiation_therapy = df.columns[56:58]\n",
    "radiation_therapy_df = df[radiation_therapy]\n",
    "radiation_therapy_df.head()"
   ]
  },
  {
   "cell_type": "code",
   "execution_count": 19,
   "metadata": {},
   "outputs": [
    {
     "data": {
      "text/plain": [
       "Index(['Neoadjuvant Radiation Therapy', 'Adjuvant Radiation Therapy'], dtype='object')"
      ]
     },
     "execution_count": 19,
     "metadata": {},
     "output_type": "execute_result"
    }
   ],
   "source": [
    "radiation_therapy"
   ]
  },
  {
   "cell_type": "code",
   "execution_count": 24,
   "metadata": {},
   "outputs": [
    {
     "data": {
      "text/plain": [
       "Neoadjuvant Radiation Therapy    8\n",
       "Adjuvant Radiation Therapy       9\n",
       "dtype: int64"
      ]
     },
     "execution_count": 24,
     "metadata": {},
     "output_type": "execute_result"
    }
   ],
   "source": [
    "radiation_therapy_df.isnull().sum()"
   ]
  },
  {
   "cell_type": "markdown",
   "metadata": {},
   "source": [
    "### Tumor response"
   ]
  },
  {
   "cell_type": "markdown",
   "metadata": {},
   "source": [
    "Tumor response. These data were obtained from the Oncology clinic note in the electronic medical record. Please note this data was obtained from the initial evaluation of the electronic medical record. Columns further to the right in the spreadsheet, labeled Pathological Response to Neo-Adjuvant Therapy and Near-Complete Response were obtained on second review of the electronic medical record with a few updates made to the data.\n",
    "\n",
    "* Clinical response (obtained from radiologist imaging report)\n",
    "* Pathologic response to neoadjuvant therapy (complete response, not complete response, DCIS only remaining, LCIS only remaining, treatment response assessment unavailable, not applicable)"
   ]
  },
  {
   "cell_type": "code",
   "execution_count": 20,
   "metadata": {},
   "outputs": [
    {
     "data": {
      "text/plain": [
       "Index(['Clinical Response, Evaluated Through Imaging ', 'Pathologic Response to Neoadjuvant Therapy'], dtype='object')"
      ]
     },
     "execution_count": 20,
     "metadata": {},
     "output_type": "execute_result"
    }
   ],
   "source": [
    "tumor_response = df.columns[58:60]\n",
    "tumor_response_df = df[tumor_response]\n",
    "tumor_response"
   ]
  },
  {
   "cell_type": "markdown",
   "metadata": {},
   "source": [
    "### Recurrence"
   ]
  },
  {
   "cell_type": "markdown",
   "metadata": {},
   "source": [
    "Recurrence. These data were obtained from the Oncology clinic note in the electronic medical record.\n",
    "\n",
    "* No, yes\n",
    "* If yes: days to local recurrence and/or days to distant recurrence from date of diagnosis"
   ]
  },
  {
   "cell_type": "code",
   "execution_count": 21,
   "metadata": {},
   "outputs": [
    {
     "data": {
      "text/html": [
       "<div>\n",
       "<style scoped>\n",
       "    .dataframe tbody tr th:only-of-type {\n",
       "        vertical-align: middle;\n",
       "    }\n",
       "\n",
       "    .dataframe tbody tr th {\n",
       "        vertical-align: top;\n",
       "    }\n",
       "\n",
       "    .dataframe thead th {\n",
       "        text-align: right;\n",
       "    }\n",
       "</style>\n",
       "<table border=\"1\" class=\"dataframe\">\n",
       "  <thead>\n",
       "    <tr style=\"text-align: right;\">\n",
       "      <th></th>\n",
       "      <th>Recurrence event(s)</th>\n",
       "      <th>Days to local recurrence (from the date of diagnosis)</th>\n",
       "      <th>Days to distant recurrence(from the date of diagnosis)</th>\n",
       "    </tr>\n",
       "  </thead>\n",
       "  <tbody>\n",
       "    <tr>\n",
       "      <th>0</th>\n",
       "      <td>0</td>\n",
       "      <td>NP</td>\n",
       "      <td>NP</td>\n",
       "    </tr>\n",
       "    <tr>\n",
       "      <th>1</th>\n",
       "      <td>0</td>\n",
       "      <td>NP</td>\n",
       "      <td>NP</td>\n",
       "    </tr>\n",
       "    <tr>\n",
       "      <th>2</th>\n",
       "      <td>0</td>\n",
       "      <td>NP</td>\n",
       "      <td>NP</td>\n",
       "    </tr>\n",
       "    <tr>\n",
       "      <th>3</th>\n",
       "      <td>0</td>\n",
       "      <td>NP</td>\n",
       "      <td>NP</td>\n",
       "    </tr>\n",
       "    <tr>\n",
       "      <th>4</th>\n",
       "      <td>0</td>\n",
       "      <td>NP</td>\n",
       "      <td>NP</td>\n",
       "    </tr>\n",
       "  </tbody>\n",
       "</table>\n",
       "</div>"
      ],
      "text/plain": [
       "  Recurrence event(s) Days to local recurrence (from the date of diagnosis)   \\\n",
       "0                   0                                                 NP       \n",
       "1                   0                                                 NP       \n",
       "2                   0                                                 NP       \n",
       "3                   0                                                 NP       \n",
       "4                   0                                                 NP       \n",
       "\n",
       "  Days to distant recurrence(from the date of diagnosis)   \n",
       "0                                                 NP       \n",
       "1                                                 NP       \n",
       "2                                                 NP       \n",
       "3                                                 NP       \n",
       "4                                                 NP       "
      ]
     },
     "execution_count": 21,
     "metadata": {},
     "output_type": "execute_result"
    }
   ],
   "source": [
    "recurrence = df.columns[60:63]\n",
    "recurrence_df = df[recurrence]\n",
    "recurrence_df.head()"
   ]
  },
  {
   "cell_type": "code",
   "execution_count": 22,
   "metadata": {},
   "outputs": [
    {
     "data": {
      "text/plain": [
       "Index(['Recurrence event(s)',\n",
       "       'Days to local recurrence (from the date of diagnosis) ',\n",
       "       'Days to distant recurrence(from the date of diagnosis) '],\n",
       "      dtype='object')"
      ]
     },
     "execution_count": 22,
     "metadata": {},
     "output_type": "execute_result"
    }
   ],
   "source": [
    "recurrence"
   ]
  },
  {
   "cell_type": "code",
   "execution_count": 27,
   "metadata": {},
   "outputs": [
    {
     "data": {
      "text/plain": [
       "Recurrence event(s)                                        2\n",
       "Days to local recurrence (from the date of diagnosis)      0\n",
       "Days to distant recurrence(from the date of diagnosis)     0\n",
       "dtype: int64"
      ]
     },
     "execution_count": 27,
     "metadata": {},
     "output_type": "execute_result"
    }
   ],
   "source": [
    "recurrence_df.isnull().sum()"
   ]
  },
  {
   "cell_type": "markdown",
   "metadata": {},
   "source": [
    "### Follow-up"
   ]
  },
  {
   "cell_type": "markdown",
   "metadata": {},
   "source": [
    "Follow-up. These data were obtained from all clinical notes in the electronic medical record.\n",
    "\n",
    "* Days to death from diagnosis\n",
    "* Days to last local recurrence free assessment (based on clinical notes in the electronic medical record)\n",
    "* Days to last distant recurrence free assessment (based on clinical notes in the electronic medical record)\n",
    "* Days to last contact in electronic medical record (last time patient known to be alive, unless age of death is reported)"
   ]
  },
  {
   "cell_type": "code",
   "execution_count": 24,
   "metadata": {},
   "outputs": [
    {
     "data": {
      "text/html": [
       "<div>\n",
       "<style scoped>\n",
       "    .dataframe tbody tr th:only-of-type {\n",
       "        vertical-align: middle;\n",
       "    }\n",
       "\n",
       "    .dataframe tbody tr th {\n",
       "        vertical-align: top;\n",
       "    }\n",
       "\n",
       "    .dataframe thead th {\n",
       "        text-align: right;\n",
       "    }\n",
       "</style>\n",
       "<table border=\"1\" class=\"dataframe\">\n",
       "  <thead>\n",
       "    <tr style=\"text-align: right;\">\n",
       "      <th></th>\n",
       "      <th>Days to death (from the date of diagnosis)</th>\n",
       "      <th>Days to last local recurrence free assessment (from the date of diagnosis)</th>\n",
       "      <th>Days to last distant recurrence free assemssment(from the date of diagnosis)</th>\n",
       "      <th>Age at last contact in EMR f/u(days)(from the date of diagnosis) ,last time patient known to be alive, unless age of death is reported(in such case the age of death</th>\n",
       "    </tr>\n",
       "  </thead>\n",
       "  <tbody>\n",
       "    <tr>\n",
       "      <th>0</th>\n",
       "      <td>NP</td>\n",
       "      <td>2940</td>\n",
       "      <td>2940</td>\n",
       "      <td>2940</td>\n",
       "    </tr>\n",
       "    <tr>\n",
       "      <th>1</th>\n",
       "      <td>NP</td>\n",
       "      <td>1649</td>\n",
       "      <td>1649</td>\n",
       "      <td>1649</td>\n",
       "    </tr>\n",
       "    <tr>\n",
       "      <th>2</th>\n",
       "      <td>NP</td>\n",
       "      <td>1697</td>\n",
       "      <td>1697</td>\n",
       "      <td>NaN</td>\n",
       "    </tr>\n",
       "    <tr>\n",
       "      <th>3</th>\n",
       "      <td>NP</td>\n",
       "      <td>1990</td>\n",
       "      <td>1990</td>\n",
       "      <td>1990</td>\n",
       "    </tr>\n",
       "    <tr>\n",
       "      <th>4</th>\n",
       "      <td>NP</td>\n",
       "      <td>1845</td>\n",
       "      <td>1845</td>\n",
       "      <td>1845</td>\n",
       "    </tr>\n",
       "  </tbody>\n",
       "</table>\n",
       "</div>"
      ],
      "text/plain": [
       "  Days to death (from the date of diagnosis)   \\\n",
       "0                                          NP   \n",
       "1                                          NP   \n",
       "2                                          NP   \n",
       "3                                          NP   \n",
       "4                                          NP   \n",
       "\n",
       "  Days to last local recurrence free assessment (from the date of diagnosis)   \\\n",
       "0                                               2940                            \n",
       "1                                               1649                            \n",
       "2                                               1697                            \n",
       "3                                               1990                            \n",
       "4                                               1845                            \n",
       "\n",
       "  Days to last distant recurrence free assemssment(from the date of diagnosis)   \\\n",
       "0                                               2940                              \n",
       "1                                               1649                              \n",
       "2                                               1697                              \n",
       "3                                               1990                              \n",
       "4                                               1845                              \n",
       "\n",
       "  Age at last contact in EMR f/u(days)(from the date of diagnosis) ,last time patient known to be alive, unless age of death is reported(in such case the age of death  \n",
       "0                                               2940                                                                                                                    \n",
       "1                                               1649                                                                                                                    \n",
       "2                                                NaN                                                                                                                    \n",
       "3                                               1990                                                                                                                    \n",
       "4                                               1845                                                                                                                    "
      ]
     },
     "execution_count": 24,
     "metadata": {},
     "output_type": "execute_result"
    }
   ],
   "source": [
    "follow_up = df.columns[63:67]\n",
    "follow_up_df = df[follow_up]\n",
    "follow_up_df.head()"
   ]
  },
  {
   "cell_type": "code",
   "execution_count": 25,
   "metadata": {},
   "outputs": [
    {
     "data": {
      "text/plain": [
       "Index(['Days to death (from the date of diagnosis) ',\n",
       "       'Days to last local recurrence free assessment (from the date of diagnosis) ',\n",
       "       'Days to last distant recurrence free assemssment(from the date of diagnosis) ',\n",
       "       'Age at last contact in EMR f/u(days)(from the date of diagnosis) ,last time patient known to be alive, unless age of death is reported(in such case the age of death'],\n",
       "      dtype='object')"
      ]
     },
     "execution_count": 25,
     "metadata": {},
     "output_type": "execute_result"
    }
   ],
   "source": [
    "follow_up"
   ]
  },
  {
   "cell_type": "code",
   "execution_count": 29,
   "metadata": {},
   "outputs": [
    {
     "data": {
      "text/plain": [
       "Days to death (from the date of diagnosis)                                                                                                                                0\n",
       "Days to last local recurrence free assessment (from the date of diagnosis)                                                                                                2\n",
       "Days to last distant recurrence free assemssment(from the date of diagnosis)                                                                                              2\n",
       "Age at last contact in EMR f/u(days)(from the date of diagnosis) ,last time patient known to be alive, unless age of death is reported(in such case the age of death    271\n",
       "dtype: int64"
      ]
     },
     "execution_count": 29,
     "metadata": {},
     "output_type": "execute_result"
    }
   ],
   "source": [
    "follow_up_df.isnull().sum()"
   ]
  },
  {
   "cell_type": "code",
   "execution_count": 54,
   "metadata": {},
   "outputs": [],
   "source": [
    "# df.columns[67]\n",
    "# # drop column 67 BIRADS Data\n",
    "# df.drop(df.columns[67], axis=1, inplace=True)"
   ]
  },
  {
   "cell_type": "markdown",
   "metadata": {},
   "source": [
    "### Mammography Characteristics"
   ]
  },
  {
   "cell_type": "markdown",
   "metadata": {},
   "source": [
    "Mammography Characteristics. These data were obtained from the radiologist preoperative mammogram report.\n",
    "\n",
    "* Age at mammogram\n",
    "* Breast density (heterogeneous, scattered, minimal, moderate, extremely, predominantly fatty)\n",
    "* Lesion shape (oval, irregular, lobular, reniform, stellate)\n",
    "* Lesion margin (obscured, spiculated, indistinct/ill-defined, circumscribed)\n",
    "* Architectural distortion (no,yes)\n",
    "* Lesion density\n",
    "* Calcifications (yes, pleomorphic, heterogeneous, microcalcification, linear, clustered, amorphous, branching)\n",
    "* Lesion size (cm)"
   ]
  },
  {
   "cell_type": "code",
   "execution_count": 26,
   "metadata": {},
   "outputs": [
    {
     "data": {
      "text/html": [
       "<div>\n",
       "<style scoped>\n",
       "    .dataframe tbody tr th:only-of-type {\n",
       "        vertical-align: middle;\n",
       "    }\n",
       "\n",
       "    .dataframe tbody tr th {\n",
       "        vertical-align: top;\n",
       "    }\n",
       "\n",
       "    .dataframe thead th {\n",
       "        text-align: right;\n",
       "    }\n",
       "</style>\n",
       "<table border=\"1\" class=\"dataframe\">\n",
       "  <thead>\n",
       "    <tr style=\"text-align: right;\">\n",
       "      <th></th>\n",
       "      <th>Age at mammo (days)</th>\n",
       "      <th>Breast Density</th>\n",
       "      <th>Shape</th>\n",
       "      <th>Shape</th>\n",
       "      <th>Margin</th>\n",
       "      <th>Margin</th>\n",
       "      <th>Architectural distortion</th>\n",
       "      <th>Mass Density</th>\n",
       "      <th>Calcifications</th>\n",
       "      <th>Tumor Size (cm)</th>\n",
       "      <th>Tumor Size (cm)</th>\n",
       "    </tr>\n",
       "  </thead>\n",
       "  <tbody>\n",
       "    <tr>\n",
       "      <th>0</th>\n",
       "      <td>NC</td>\n",
       "      <td>NC</td>\n",
       "      <td>NC</td>\n",
       "      <td>NC</td>\n",
       "      <td>NC</td>\n",
       "      <td>NC</td>\n",
       "      <td>NC</td>\n",
       "      <td>NC</td>\n",
       "      <td>NC</td>\n",
       "      <td>NC</td>\n",
       "      <td>NC</td>\n",
       "    </tr>\n",
       "    <tr>\n",
       "      <th>1</th>\n",
       "      <td>NC</td>\n",
       "      <td>NC</td>\n",
       "      <td>NC</td>\n",
       "      <td>NC</td>\n",
       "      <td>NC</td>\n",
       "      <td>NC</td>\n",
       "      <td>NC</td>\n",
       "      <td>NC</td>\n",
       "      <td>NC</td>\n",
       "      <td>NC</td>\n",
       "      <td>NC</td>\n",
       "    </tr>\n",
       "    <tr>\n",
       "      <th>2</th>\n",
       "      <td>-4</td>\n",
       "      <td>1</td>\n",
       "      <td>NaN</td>\n",
       "      <td>NaN</td>\n",
       "      <td>NaN</td>\n",
       "      <td>NaN</td>\n",
       "      <td>NaN</td>\n",
       "      <td>NaN</td>\n",
       "      <td>0</td>\n",
       "      <td>NaN</td>\n",
       "      <td>NaN</td>\n",
       "    </tr>\n",
       "    <tr>\n",
       "      <th>3</th>\n",
       "      <td>NC</td>\n",
       "      <td>NC</td>\n",
       "      <td>NC</td>\n",
       "      <td>NC</td>\n",
       "      <td>NC</td>\n",
       "      <td>NC</td>\n",
       "      <td>NC</td>\n",
       "      <td>NC</td>\n",
       "      <td>NC</td>\n",
       "      <td>NC</td>\n",
       "      <td>NC</td>\n",
       "    </tr>\n",
       "    <tr>\n",
       "      <th>4</th>\n",
       "      <td>NC</td>\n",
       "      <td>NC</td>\n",
       "      <td>NC</td>\n",
       "      <td>NC</td>\n",
       "      <td>NC</td>\n",
       "      <td>NC</td>\n",
       "      <td>NC</td>\n",
       "      <td>NC</td>\n",
       "      <td>NC</td>\n",
       "      <td>NC</td>\n",
       "      <td>NC</td>\n",
       "    </tr>\n",
       "  </tbody>\n",
       "</table>\n",
       "</div>"
      ],
      "text/plain": [
       "  Age at mammo (days) Breast Density Shape Shape Margin Margin  \\\n",
       "0                  NC             NC    NC    NC     NC     NC   \n",
       "1                  NC             NC    NC    NC     NC     NC   \n",
       "2                  -4              1   NaN   NaN    NaN    NaN   \n",
       "3                  NC             NC    NC    NC     NC     NC   \n",
       "4                  NC             NC    NC    NC     NC     NC   \n",
       "\n",
       "  Architectural distortion Mass Density Calcifications Tumor Size (cm)  \\\n",
       "0                       NC           NC             NC              NC   \n",
       "1                       NC           NC             NC              NC   \n",
       "2                      NaN          NaN              0             NaN   \n",
       "3                       NC           NC             NC              NC   \n",
       "4                       NC           NC             NC              NC   \n",
       "\n",
       "  Tumor Size (cm)  \n",
       "0              NC  \n",
       "1              NC  \n",
       "2             NaN  \n",
       "3              NC  \n",
       "4              NC  "
      ]
     },
     "execution_count": 26,
     "metadata": {},
     "output_type": "execute_result"
    }
   ],
   "source": [
    "# mamography_characteristics = df.columns[67:69]\n",
    "mamography_characteristics = df.columns[68:76]\n",
    "mamography_characteristics_df = df[mamography_characteristics]\n",
    "mamography_characteristics_df.head()"
   ]
  },
  {
   "cell_type": "code",
   "execution_count": 27,
   "metadata": {},
   "outputs": [
    {
     "data": {
      "text/plain": [
       "Index(['Age at mammo (days)', 'Breast Density', 'Shape', 'Margin',\n",
       "       'Architectural distortion', 'Mass Density', 'Calcifications',\n",
       "       'Tumor Size (cm)'],\n",
       "      dtype='object')"
      ]
     },
     "execution_count": 27,
     "metadata": {},
     "output_type": "execute_result"
    }
   ],
   "source": [
    "mamography_characteristics"
   ]
  },
  {
   "cell_type": "code",
   "execution_count": 31,
   "metadata": {},
   "outputs": [
    {
     "data": {
      "text/plain": [
       "Age at mammo (days)         138\n",
       "Breast Density              114\n",
       "Shape                       207\n",
       "Shape                       161\n",
       "Margin                      200\n",
       "Margin                      200\n",
       "Architectural distortion    251\n",
       "Mass Density                254\n",
       "Calcifications              228\n",
       "Tumor Size (cm)             174\n",
       "Tumor Size (cm)             135\n",
       "dtype: int64"
      ]
     },
     "execution_count": 31,
     "metadata": {},
     "output_type": "execute_result"
    }
   ],
   "source": [
    "mamography_characteristics_df.isnull().sum()"
   ]
  },
  {
   "cell_type": "markdown",
   "metadata": {},
   "source": [
    "### Ultrasound (US) features"
   ]
  },
  {
   "cell_type": "markdown",
   "metadata": {},
   "source": [
    "Ultrasound (US) features. These data were obtained from the radiologist preoperative ultrasound report.\n",
    "\n",
    "* Lesion shape (oval, irregular, lobular)\n",
    "* Lesion margin (obscured, ill-defined, spiculated, indistinct, circumscribed, microlobulated, angular, irregular)\n",
    "* Lesion size (cm)\n",
    "* Lesion echogenicity (hypoechoic, hyperechoic, isoechoic, anechoic, irregular, mixed, boundary)\n",
    "* Solid\n",
    "* Posterior acoustic shadowing\n"
   ]
  },
  {
   "cell_type": "code",
   "execution_count": 28,
   "metadata": {},
   "outputs": [
    {
     "data": {
      "text/html": [
       "<div>\n",
       "<style scoped>\n",
       "    .dataframe tbody tr th:only-of-type {\n",
       "        vertical-align: middle;\n",
       "    }\n",
       "\n",
       "    .dataframe tbody tr th {\n",
       "        vertical-align: top;\n",
       "    }\n",
       "\n",
       "    .dataframe thead th {\n",
       "        text-align: right;\n",
       "    }\n",
       "</style>\n",
       "<table border=\"1\" class=\"dataframe\">\n",
       "  <thead>\n",
       "    <tr style=\"text-align: right;\">\n",
       "      <th></th>\n",
       "      <th>Shape</th>\n",
       "      <th>Shape</th>\n",
       "      <th>Margin</th>\n",
       "      <th>Margin</th>\n",
       "      <th>Tumor Size (cm)</th>\n",
       "      <th>Tumor Size (cm)</th>\n",
       "      <th>Echogenicity</th>\n",
       "      <th>Solid</th>\n",
       "      <th>Posterior acoustic shadowing</th>\n",
       "    </tr>\n",
       "  </thead>\n",
       "  <tbody>\n",
       "    <tr>\n",
       "      <th>0</th>\n",
       "      <td>NC</td>\n",
       "      <td>NC</td>\n",
       "      <td>NC</td>\n",
       "      <td>NC</td>\n",
       "      <td>NC</td>\n",
       "      <td>NC</td>\n",
       "      <td>NC</td>\n",
       "      <td>NC</td>\n",
       "      <td>NC</td>\n",
       "    </tr>\n",
       "    <tr>\n",
       "      <th>1</th>\n",
       "      <td>NC</td>\n",
       "      <td>NC</td>\n",
       "      <td>NC</td>\n",
       "      <td>NC</td>\n",
       "      <td>NC</td>\n",
       "      <td>NC</td>\n",
       "      <td>NC</td>\n",
       "      <td>NC</td>\n",
       "      <td>NC</td>\n",
       "    </tr>\n",
       "    <tr>\n",
       "      <th>2</th>\n",
       "      <td>NaN</td>\n",
       "      <td>NaN</td>\n",
       "      <td>NaN</td>\n",
       "      <td>NaN</td>\n",
       "      <td>NaN</td>\n",
       "      <td>NaN</td>\n",
       "      <td>NaN</td>\n",
       "      <td>NaN</td>\n",
       "      <td>NaN</td>\n",
       "    </tr>\n",
       "    <tr>\n",
       "      <th>3</th>\n",
       "      <td>NC</td>\n",
       "      <td>NC</td>\n",
       "      <td>NC</td>\n",
       "      <td>NC</td>\n",
       "      <td>NC</td>\n",
       "      <td>NC</td>\n",
       "      <td>NC</td>\n",
       "      <td>NC</td>\n",
       "      <td>NC</td>\n",
       "    </tr>\n",
       "    <tr>\n",
       "      <th>4</th>\n",
       "      <td>NC</td>\n",
       "      <td>NC</td>\n",
       "      <td>NC</td>\n",
       "      <td>NC</td>\n",
       "      <td>NC</td>\n",
       "      <td>NC</td>\n",
       "      <td>NC</td>\n",
       "      <td>NC</td>\n",
       "      <td>NC</td>\n",
       "    </tr>\n",
       "  </tbody>\n",
       "</table>\n",
       "</div>"
      ],
      "text/plain": [
       "  Shape Shape Margin Margin Tumor Size (cm) Tumor Size (cm) Echogenicity  \\\n",
       "0    NC    NC     NC     NC              NC              NC           NC   \n",
       "1    NC    NC     NC     NC              NC              NC           NC   \n",
       "2   NaN   NaN    NaN    NaN             NaN             NaN          NaN   \n",
       "3    NC    NC     NC     NC              NC              NC           NC   \n",
       "4    NC    NC     NC     NC              NC              NC           NC   \n",
       "\n",
       "  Solid Posterior acoustic shadowing  \n",
       "0    NC                           NC  \n",
       "1    NC                           NC  \n",
       "2   NaN                          NaN  \n",
       "3    NC                           NC  \n",
       "4    NC                           NC  "
      ]
     },
     "execution_count": 28,
     "metadata": {},
     "output_type": "execute_result"
    }
   ],
   "source": [
    "# us_features = df.columns[76:80]\n",
    "us_features = df.columns[76:82]\n",
    "us_features_df = df[us_features]\n",
    "us_features_df.head()"
   ]
  },
  {
   "cell_type": "code",
   "execution_count": 29,
   "metadata": {},
   "outputs": [
    {
     "data": {
      "text/plain": [
       "Index(['Shape', 'Margin', 'Tumor Size (cm)', 'Echogenicity', 'Solid',\n",
       "       'Posterior acoustic shadowing'],\n",
       "      dtype='object')"
      ]
     },
     "execution_count": 29,
     "metadata": {},
     "output_type": "execute_result"
    }
   ],
   "source": [
    "us_features"
   ]
  },
  {
   "cell_type": "code",
   "execution_count": 33,
   "metadata": {},
   "outputs": [
    {
     "data": {
      "text/plain": [
       "Shape                           207\n",
       "Shape                           161\n",
       "Margin                          200\n",
       "Margin                          200\n",
       "Tumor Size (cm)                 174\n",
       "Tumor Size (cm)                 135\n",
       "Echogenicity                    157\n",
       "Solid                           257\n",
       "Posterior acoustic shadowing    235\n",
       "dtype: int64"
      ]
     },
     "execution_count": 33,
     "metadata": {},
     "output_type": "execute_result"
    }
   ],
   "source": [
    "us_features_df.isnull().sum()"
   ]
  },
  {
   "cell_type": "markdown",
   "metadata": {},
   "source": [
    "### Therapy data"
   ]
  },
  {
   "cell_type": "markdown",
   "metadata": {},
   "source": [
    "Therapy data. Please note this data was obtained on second review of the electronic medical record with a few updates made to the data.\n",
    "\n"
   ]
  },
  {
   "cell_type": "markdown",
   "metadata": {},
   "source": [
    "* Chemotherapy (neoadjuvant, adjuvant)"
   ]
  },
  {
   "cell_type": "code",
   "execution_count": 30,
   "metadata": {},
   "outputs": [],
   "source": [
    "# chemotherapy\n",
    "chemotherapy = df.columns[82:84]\n",
    "chemotherapy_df = df[chemotherapy]"
   ]
  },
  {
   "cell_type": "code",
   "execution_count": 31,
   "metadata": {},
   "outputs": [
    {
     "data": {
      "text/plain": [
       "Index(['Neoadjuvant Chemotherapy', 'Adjuvant Chemotherapy'], dtype='object')"
      ]
     },
     "execution_count": 31,
     "metadata": {},
     "output_type": "execute_result"
    }
   ],
   "source": [
    "chemotherapy"
   ]
  },
  {
   "cell_type": "code",
   "execution_count": 36,
   "metadata": {},
   "outputs": [
    {
     "data": {
      "text/plain": [
       "Neoadjuvant Chemotherapy    29\n",
       "Adjuvant Chemotherapy       49\n",
       "dtype: int64"
      ]
     },
     "execution_count": 36,
     "metadata": {},
     "output_type": "execute_result"
    }
   ],
   "source": [
    "chemotherapy_df.isnull().sum()"
   ]
  },
  {
   "cell_type": "markdown",
   "metadata": {},
   "source": [
    "* Endocrine Therapy (neoadjuvant, adjuvant, known ovarian status, number of ovaries in situ, therapeutic or prophylactic oophorectomy as part of endocrine therapy)"
   ]
  },
  {
   "cell_type": "code",
   "execution_count": 32,
   "metadata": {},
   "outputs": [
    {
     "data": {
      "text/html": [
       "<div>\n",
       "<style scoped>\n",
       "    .dataframe tbody tr th:only-of-type {\n",
       "        vertical-align: middle;\n",
       "    }\n",
       "\n",
       "    .dataframe tbody tr th {\n",
       "        vertical-align: top;\n",
       "    }\n",
       "\n",
       "    .dataframe thead th {\n",
       "        text-align: right;\n",
       "    }\n",
       "</style>\n",
       "<table border=\"1\" class=\"dataframe\">\n",
       "  <thead>\n",
       "    <tr style=\"text-align: right;\">\n",
       "      <th></th>\n",
       "      <th>Neoadjuvant Endocrine Therapy Medications</th>\n",
       "      <th>Adjuvant Endocrine Therapy Medications</th>\n",
       "      <th>Known Ovarian Status</th>\n",
       "      <th>Number of Ovaries In Situ \\n</th>\n",
       "      <th>Therapeutic or Prophylactic Oophorectomy as part of Endocrine Therapy</th>\n",
       "    </tr>\n",
       "  </thead>\n",
       "  <tbody>\n",
       "    <tr>\n",
       "      <th>0</th>\n",
       "      <td>0</td>\n",
       "      <td>0</td>\n",
       "      <td>1</td>\n",
       "      <td>0</td>\n",
       "      <td>1</td>\n",
       "    </tr>\n",
       "    <tr>\n",
       "      <th>1</th>\n",
       "      <td>0</td>\n",
       "      <td>0</td>\n",
       "      <td>0</td>\n",
       "      <td>NP</td>\n",
       "      <td>0</td>\n",
       "    </tr>\n",
       "    <tr>\n",
       "      <th>2</th>\n",
       "      <td>1</td>\n",
       "      <td>1</td>\n",
       "      <td>0</td>\n",
       "      <td>NP</td>\n",
       "      <td>0</td>\n",
       "    </tr>\n",
       "    <tr>\n",
       "      <th>3</th>\n",
       "      <td>0</td>\n",
       "      <td>1</td>\n",
       "      <td>0</td>\n",
       "      <td>NP</td>\n",
       "      <td>0</td>\n",
       "    </tr>\n",
       "    <tr>\n",
       "      <th>4</th>\n",
       "      <td>0</td>\n",
       "      <td>1</td>\n",
       "      <td>0</td>\n",
       "      <td>NP</td>\n",
       "      <td>0</td>\n",
       "    </tr>\n",
       "  </tbody>\n",
       "</table>\n",
       "</div>"
      ],
      "text/plain": [
       "  Neoadjuvant Endocrine Therapy Medications   \\\n",
       "0                                          0   \n",
       "1                                          0   \n",
       "2                                          1   \n",
       "3                                          0   \n",
       "4                                          0   \n",
       "\n",
       "  Adjuvant Endocrine Therapy Medications  Known Ovarian Status   \\\n",
       "0                                       0                     1   \n",
       "1                                       0                     0   \n",
       "2                                       1                     0   \n",
       "3                                       1                     0   \n",
       "4                                       1                     0   \n",
       "\n",
       "  Number of Ovaries In Situ \\n  \\\n",
       "0                            0   \n",
       "1                           NP   \n",
       "2                           NP   \n",
       "3                           NP   \n",
       "4                           NP   \n",
       "\n",
       "  Therapeutic or Prophylactic Oophorectomy as part of Endocrine Therapy   \n",
       "0                                                  1                      \n",
       "1                                                  0                      \n",
       "2                                                  0                      \n",
       "3                                                  0                      \n",
       "4                                                  0                      "
      ]
     },
     "execution_count": 32,
     "metadata": {},
     "output_type": "execute_result"
    }
   ],
   "source": [
    "# endocrine therapy\n",
    "endocrine_therapy = df.columns[84:89]\n",
    "endocrine_therapy_df = df[endocrine_therapy]\n",
    "endocrine_therapy_df.head()"
   ]
  },
  {
   "cell_type": "code",
   "execution_count": 33,
   "metadata": {},
   "outputs": [
    {
     "data": {
      "text/plain": [
       "Index(['Neoadjuvant Endocrine Therapy Medications ',\n",
       "       'Adjuvant Endocrine Therapy Medications ', 'Known Ovarian Status ',\n",
       "       'Number of Ovaries In Situ \\n',\n",
       "       'Therapeutic or Prophylactic Oophorectomy as part of Endocrine Therapy '],\n",
       "      dtype='object')"
      ]
     },
     "execution_count": 33,
     "metadata": {},
     "output_type": "execute_result"
    }
   ],
   "source": [
    "endocrine_therapy"
   ]
  },
  {
   "cell_type": "code",
   "execution_count": 39,
   "metadata": {},
   "outputs": [
    {
     "data": {
      "text/plain": [
       "Neoadjuvant Endocrine Therapy Medications                                 30\n",
       "Adjuvant Endocrine Therapy Medications                                    54\n",
       "Known Ovarian Status                                                       0\n",
       "Number of Ovaries In Situ \\n                                               0\n",
       "Therapeutic or Prophylactic Oophorectomy as part of Endocrine Therapy      0\n",
       "dtype: int64"
      ]
     },
     "execution_count": 39,
     "metadata": {},
     "output_type": "execute_result"
    }
   ],
   "source": [
    "endocrine_therapy_df.isnull().sum()"
   ]
  },
  {
   "cell_type": "markdown",
   "metadata": {},
   "source": [
    "* Anti-Her2/Neu Therapy (neoadjuvant, adjuvant)"
   ]
  },
  {
   "cell_type": "code",
   "execution_count": 34,
   "metadata": {},
   "outputs": [
    {
     "data": {
      "text/html": [
       "<div>\n",
       "<style scoped>\n",
       "    .dataframe tbody tr th:only-of-type {\n",
       "        vertical-align: middle;\n",
       "    }\n",
       "\n",
       "    .dataframe tbody tr th {\n",
       "        vertical-align: top;\n",
       "    }\n",
       "\n",
       "    .dataframe thead th {\n",
       "        text-align: right;\n",
       "    }\n",
       "</style>\n",
       "<table border=\"1\" class=\"dataframe\">\n",
       "  <thead>\n",
       "    <tr style=\"text-align: right;\">\n",
       "      <th></th>\n",
       "      <th>Neoadjuvant Anti-Her2 Neu Therapy</th>\n",
       "      <th>Adjuvant Anti-Her2 Neu Therapy</th>\n",
       "    </tr>\n",
       "  </thead>\n",
       "  <tbody>\n",
       "    <tr>\n",
       "      <th>0</th>\n",
       "      <td>1</td>\n",
       "      <td>1</td>\n",
       "    </tr>\n",
       "    <tr>\n",
       "      <th>1</th>\n",
       "      <td>0</td>\n",
       "      <td>0</td>\n",
       "    </tr>\n",
       "    <tr>\n",
       "      <th>2</th>\n",
       "      <td>0</td>\n",
       "      <td>0</td>\n",
       "    </tr>\n",
       "    <tr>\n",
       "      <th>3</th>\n",
       "      <td>0</td>\n",
       "      <td>0</td>\n",
       "    </tr>\n",
       "    <tr>\n",
       "      <th>4</th>\n",
       "      <td>1</td>\n",
       "      <td>1</td>\n",
       "    </tr>\n",
       "  </tbody>\n",
       "</table>\n",
       "</div>"
      ],
      "text/plain": [
       "  Neoadjuvant Anti-Her2 Neu Therapy Adjuvant Anti-Her2 Neu Therapy \n",
       "0                                 1                               1\n",
       "1                                 0                               0\n",
       "2                                 0                               0\n",
       "3                                 0                               0\n",
       "4                                 1                               1"
      ]
     },
     "execution_count": 34,
     "metadata": {},
     "output_type": "execute_result"
    }
   ],
   "source": [
    "# anti-her2 neu therapy\n",
    "anti_her2_neu_therapy = df.columns[89:91]\n",
    "anti_her2_neu_therapy_df = df[anti_her2_neu_therapy]\n",
    "anti_her2_neu_therapy_df.head()"
   ]
  },
  {
   "cell_type": "code",
   "execution_count": 35,
   "metadata": {},
   "outputs": [
    {
     "data": {
      "text/plain": [
       "Index(['Neoadjuvant Anti-Her2 Neu Therapy', 'Adjuvant Anti-Her2 Neu Therapy '], dtype='object')"
      ]
     },
     "execution_count": 35,
     "metadata": {},
     "output_type": "execute_result"
    }
   ],
   "source": [
    "anti_her2_neu_therapy"
   ]
  },
  {
   "cell_type": "code",
   "execution_count": 41,
   "metadata": {},
   "outputs": [
    {
     "data": {
      "text/plain": [
       "Neoadjuvant Anti-Her2 Neu Therapy    30\n",
       "Adjuvant Anti-Her2 Neu Therapy       51\n",
       "dtype: int64"
      ]
     },
     "execution_count": 41,
     "metadata": {},
     "output_type": "execute_result"
    }
   ],
   "source": [
    "anti_her2_neu_therapy_df.isnull().sum()"
   ]
  },
  {
   "cell_type": "markdown",
   "metadata": {},
   "source": [
    "* Neo-Adjuvant Therapy (received neoadjuvant or not)"
   ]
  },
  {
   "cell_type": "code",
   "execution_count": 43,
   "metadata": {},
   "outputs": [
    {
     "data": {
      "text/html": [
       "<div>\n",
       "<style scoped>\n",
       "    .dataframe tbody tr th:only-of-type {\n",
       "        vertical-align: middle;\n",
       "    }\n",
       "\n",
       "    .dataframe tbody tr th {\n",
       "        vertical-align: top;\n",
       "    }\n",
       "\n",
       "    .dataframe thead th {\n",
       "        text-align: right;\n",
       "    }\n",
       "</style>\n",
       "<table border=\"1\" class=\"dataframe\">\n",
       "  <thead>\n",
       "    <tr style=\"text-align: right;\">\n",
       "      <th></th>\n",
       "      <th>Received Neoadjuvant Therapy or Not</th>\n",
       "    </tr>\n",
       "  </thead>\n",
       "  <tbody>\n",
       "    <tr>\n",
       "      <th>0</th>\n",
       "      <td>1</td>\n",
       "    </tr>\n",
       "    <tr>\n",
       "      <th>1</th>\n",
       "      <td>1</td>\n",
       "    </tr>\n",
       "    <tr>\n",
       "      <th>2</th>\n",
       "      <td>1</td>\n",
       "    </tr>\n",
       "    <tr>\n",
       "      <th>3</th>\n",
       "      <td>2</td>\n",
       "    </tr>\n",
       "    <tr>\n",
       "      <th>4</th>\n",
       "      <td>1</td>\n",
       "    </tr>\n",
       "  </tbody>\n",
       "</table>\n",
       "</div>"
      ],
      "text/plain": [
       "  Received Neoadjuvant Therapy or Not\n",
       "0                                   1\n",
       "1                                   1\n",
       "2                                   1\n",
       "3                                   2\n",
       "4                                   1"
      ]
     },
     "execution_count": 43,
     "metadata": {},
     "output_type": "execute_result"
    }
   ],
   "source": [
    "# Neoadjuvant therapy\n",
    "neoadjuvant_therapy =  df.columns[91:92]\n",
    "neoadjuvant_therapy_df = df[neoadjuvant_therapy]\n",
    "neoadjuvant_therapy_df.head()"
   ]
  },
  {
   "cell_type": "code",
   "execution_count": 44,
   "metadata": {},
   "outputs": [
    {
     "data": {
      "text/plain": [
       "Received Neoadjuvant Therapy or Not    29\n",
       "dtype: int64"
      ]
     },
     "execution_count": 44,
     "metadata": {},
     "output_type": "execute_result"
    }
   ],
   "source": [
    "neoadjuvant_therapy_df.isnull().sum()"
   ]
  },
  {
   "cell_type": "markdown",
   "metadata": {},
   "source": [
    "* Pathologic Response to Neo-Adjuvant Therapy (pathologic stage (T) following neoadjuvant therapy, pathologic stage (N) following neoadjuvant therapy, pathologic stage (M) following neoadjuvant therapy)"
   ]
  },
  {
   "cell_type": "code",
   "execution_count": 36,
   "metadata": {},
   "outputs": [
    {
     "data": {
      "text/html": [
       "<div>\n",
       "<style scoped>\n",
       "    .dataframe tbody tr th:only-of-type {\n",
       "        vertical-align: middle;\n",
       "    }\n",
       "\n",
       "    .dataframe tbody tr th {\n",
       "        vertical-align: top;\n",
       "    }\n",
       "\n",
       "    .dataframe thead th {\n",
       "        text-align: right;\n",
       "    }\n",
       "</style>\n",
       "<table border=\"1\" class=\"dataframe\">\n",
       "  <thead>\n",
       "    <tr style=\"text-align: right;\">\n",
       "      <th></th>\n",
       "      <th>Pathologic response to Neoadjuvant therapy: Pathologic stage (T) following neoadjuvant therapy</th>\n",
       "      <th>Pathologic response to Neoadjuvant therapy:  Pathologic stage (N) following neoadjuvant therapy</th>\n",
       "      <th>Pathologic response to Neoadjuvant therapy:  Pathologic stage (M) following neoadjuvant therapy</th>\n",
       "    </tr>\n",
       "  </thead>\n",
       "  <tbody>\n",
       "    <tr>\n",
       "      <th>0</th>\n",
       "      <td>1</td>\n",
       "      <td>-1</td>\n",
       "      <td>-1</td>\n",
       "    </tr>\n",
       "    <tr>\n",
       "      <th>1</th>\n",
       "      <td>NaN</td>\n",
       "      <td>NaN</td>\n",
       "      <td>NaN</td>\n",
       "    </tr>\n",
       "    <tr>\n",
       "      <th>2</th>\n",
       "      <td>1</td>\n",
       "      <td>1</td>\n",
       "      <td>-1</td>\n",
       "    </tr>\n",
       "    <tr>\n",
       "      <th>3</th>\n",
       "      <td>NaN</td>\n",
       "      <td>NaN</td>\n",
       "      <td>NaN</td>\n",
       "    </tr>\n",
       "    <tr>\n",
       "      <th>4</th>\n",
       "      <td>0</td>\n",
       "      <td>0</td>\n",
       "      <td>-1</td>\n",
       "    </tr>\n",
       "  </tbody>\n",
       "</table>\n",
       "</div>"
      ],
      "text/plain": [
       "  Pathologic response to Neoadjuvant therapy: Pathologic stage (T) following neoadjuvant therapy   \\\n",
       "0                                                  1                                                \n",
       "1                                                NaN                                                \n",
       "2                                                  1                                                \n",
       "3                                                NaN                                                \n",
       "4                                                  0                                                \n",
       "\n",
       "  Pathologic response to Neoadjuvant therapy:  Pathologic stage (N) following neoadjuvant therapy  \\\n",
       "0                                                 -1                                                \n",
       "1                                                NaN                                                \n",
       "2                                                  1                                                \n",
       "3                                                NaN                                                \n",
       "4                                                  0                                                \n",
       "\n",
       "  Pathologic response to Neoadjuvant therapy:  Pathologic stage (M) following neoadjuvant therapy   \n",
       "0                                                 -1                                                \n",
       "1                                                NaN                                                \n",
       "2                                                 -1                                                \n",
       "3                                                NaN                                                \n",
       "4                                                 -1                                                "
      ]
     },
     "execution_count": 36,
     "metadata": {},
     "output_type": "execute_result"
    }
   ],
   "source": [
    "# Pathologic Response to Neoadjuvant Therapy\n",
    "pathologic_response_to_neoadjuvant_therapy = df.columns[92:95]\n",
    "pathologic_response_to_neoadjuvant_therapy_df = df[pathologic_response_to_neoadjuvant_therapy]\n",
    "pathologic_response_to_neoadjuvant_therapy_df.head()"
   ]
  },
  {
   "cell_type": "code",
   "execution_count": 37,
   "metadata": {},
   "outputs": [
    {
     "data": {
      "text/plain": [
       "Index(['Pathologic response to Neoadjuvant therapy: Pathologic stage (T) following neoadjuvant therapy ',\n",
       "       'Pathologic response to Neoadjuvant therapy:  Pathologic stage (N) following neoadjuvant therapy',\n",
       "       'Pathologic response to Neoadjuvant therapy:  Pathologic stage (M) following neoadjuvant therapy '],\n",
       "      dtype='object')"
      ]
     },
     "execution_count": 37,
     "metadata": {},
     "output_type": "execute_result"
    }
   ],
   "source": [
    "pathologic_response_to_neoadjuvant_therapy"
   ]
  },
  {
   "cell_type": "code",
   "execution_count": 46,
   "metadata": {},
   "outputs": [
    {
     "data": {
      "text/plain": [
       "Pathologic response to Neoadjuvant therapy: Pathologic stage (T) following neoadjuvant therapy      653\n",
       "Pathologic response to Neoadjuvant therapy:  Pathologic stage (N) following neoadjuvant therapy     652\n",
       "Pathologic response to Neoadjuvant therapy:  Pathologic stage (M) following neoadjuvant therapy     657\n",
       "dtype: int64"
      ]
     },
     "execution_count": 46,
     "metadata": {},
     "output_type": "execute_result"
    }
   ],
   "source": [
    "pathologic_response_to_neoadjuvant_therapy_df.isnull().sum()"
   ]
  },
  {
   "cell_type": "markdown",
   "metadata": {},
   "source": [
    "* Near-Complete Response (overall near-complete response (stricter definition), overall near-complete response (looser definition), near-complete response (graded measure))"
   ]
  },
  {
   "cell_type": "code",
   "execution_count": 38,
   "metadata": {},
   "outputs": [],
   "source": [
    "# Near Complete Response\n",
    "near_complete_response  = df.columns[95:98]\n",
    "near_complete_response_df = df[near_complete_response]"
   ]
  },
  {
   "cell_type": "code",
   "execution_count": 49,
   "metadata": {},
   "outputs": [
    {
     "data": {
      "text/html": [
       "<div>\n",
       "<style scoped>\n",
       "    .dataframe tbody tr th:only-of-type {\n",
       "        vertical-align: middle;\n",
       "    }\n",
       "\n",
       "    .dataframe tbody tr th {\n",
       "        vertical-align: top;\n",
       "    }\n",
       "\n",
       "    .dataframe thead th {\n",
       "        text-align: right;\n",
       "    }\n",
       "</style>\n",
       "<table border=\"1\" class=\"dataframe\">\n",
       "  <thead>\n",
       "    <tr style=\"text-align: right;\">\n",
       "      <th></th>\n",
       "      <th>Overall Near-complete Response:  Stricter Definition</th>\n",
       "      <th>Overall Near-complete Response:  Looser Definition</th>\n",
       "      <th>Near-complete Response (Graded Measure)</th>\n",
       "    </tr>\n",
       "  </thead>\n",
       "  <tbody>\n",
       "    <tr>\n",
       "      <th>0</th>\n",
       "      <td>0</td>\n",
       "      <td>0</td>\n",
       "      <td>0</td>\n",
       "    </tr>\n",
       "    <tr>\n",
       "      <th>1</th>\n",
       "      <td>2</td>\n",
       "      <td>2</td>\n",
       "      <td>4</td>\n",
       "    </tr>\n",
       "    <tr>\n",
       "      <th>2</th>\n",
       "      <td>0</td>\n",
       "      <td>0</td>\n",
       "      <td>0</td>\n",
       "    </tr>\n",
       "    <tr>\n",
       "      <th>3</th>\n",
       "      <td>NaN</td>\n",
       "      <td>NaN</td>\n",
       "      <td>NaN</td>\n",
       "    </tr>\n",
       "    <tr>\n",
       "      <th>4</th>\n",
       "      <td>1</td>\n",
       "      <td>1</td>\n",
       "      <td>1</td>\n",
       "    </tr>\n",
       "  </tbody>\n",
       "</table>\n",
       "</div>"
      ],
      "text/plain": [
       "  Overall Near-complete Response:  Stricter Definition  \\\n",
       "0                                                  0     \n",
       "1                                                  2     \n",
       "2                                                  0     \n",
       "3                                                NaN     \n",
       "4                                                  1     \n",
       "\n",
       "  Overall Near-complete Response:  Looser Definition  \\\n",
       "0                                                  0   \n",
       "1                                                  2   \n",
       "2                                                  0   \n",
       "3                                                NaN   \n",
       "4                                                  1   \n",
       "\n",
       "  Near-complete Response (Graded Measure)  \n",
       "0                                       0  \n",
       "1                                       4  \n",
       "2                                       0  \n",
       "3                                     NaN  \n",
       "4                                       1  "
      ]
     },
     "execution_count": 49,
     "metadata": {},
     "output_type": "execute_result"
    }
   ],
   "source": [
    "near_complete_response_df.head()"
   ]
  },
  {
   "cell_type": "code",
   "execution_count": 50,
   "metadata": {},
   "outputs": [
    {
     "data": {
      "text/plain": [
       "Overall Near-complete Response:  Stricter Definition    610\n",
       "Overall Near-complete Response:  Looser Definition      610\n",
       "Near-complete Response (Graded Measure)                 610\n",
       "dtype: int64"
      ]
     },
     "execution_count": 50,
     "metadata": {},
     "output_type": "execute_result"
    }
   ],
   "source": [
    "near_complete_response_df.isnull().sum()"
   ]
  },
  {
   "cell_type": "code",
   "execution_count": 39,
   "metadata": {},
   "outputs": [
    {
     "data": {
      "text/plain": [
       "Index(['Overall Near-complete Response:  Stricter Definition',\n",
       "       'Overall Near-complete Response:  Looser Definition',\n",
       "       'Near-complete Response (Graded Measure)'],\n",
       "      dtype='object')"
      ]
     },
     "execution_count": 39,
     "metadata": {},
     "output_type": "execute_result"
    }
   ],
   "source": [
    "near_complete_response"
   ]
  },
  {
   "cell_type": "code",
   "execution_count": null,
   "metadata": {},
   "outputs": [],
   "source": []
  }
 ],
 "metadata": {
  "kernelspec": {
   "display_name": "prog",
   "language": "python",
   "name": "python3"
  },
  "language_info": {
   "codemirror_mode": {
    "name": "ipython",
    "version": 3
   },
   "file_extension": ".py",
   "mimetype": "text/x-python",
   "name": "python",
   "nbconvert_exporter": "python",
   "pygments_lexer": "ipython3",
   "version": "3.11.5"
  }
 },
 "nbformat": 4,
 "nbformat_minor": 2
}
